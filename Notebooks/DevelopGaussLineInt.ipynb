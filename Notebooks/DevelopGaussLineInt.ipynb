{
 "cells": [
  {
   "cell_type": "code",
   "execution_count": 48,
   "metadata": {
    "collapsed": false
   },
   "outputs": [],
   "source": [
    "import numpy as n\n",
    "import pylab as pl\n",
    "import os\n",
    "from mpl_toolkits.axes_grid1 import make_axes_locatable\n",
    "from matplotlib.ticker import MultipleLocator\n",
    "%matplotlib inline"
   ]
  },
  {
   "cell_type": "code",
   "execution_count": 2,
   "metadata": {
    "collapsed": true
   },
   "outputs": [],
   "source": [
    "def gaussLineInt(func,xa,ya,za,xb,yb,zb):\n",
    "    \"\"\"\n",
    "    Integrate FX(x,y,z) over the line (xa,ya,za) to (xb,yb,zb).  This\n",
    "    subroutine does Gaussian integration with the first twelve Legendre\n",
    "    polynomials as the basis fuctions.  Abromowitz and Stegun page 916.\n",
    "    \"\"\"\n",
    "    \n",
    "    # Positive zeros of 12th order Legendre polynomial\n",
    "    a = [0.1252334085,  0.3678314989,  0.5873179542,\n",
    "        0.7699026741,  0.9041172563,  0.9815606342]\n",
    "    # Gaussian Integration coefficients for a 12th order polynomial\n",
    "    wt = [0.2491470458,  0.2334925365,  0.2031674267,\n",
    "        0.1600783285,  0.1069393259,  0.0471753363]\n",
    "        \n",
    "    dx = (xb-xa)/2.0\n",
    "    dy = (yb-ya)/2.0\n",
    "    dz = (zb-za)/2.0\n",
    "    xbar = (xb+xa)/2.0\n",
    "    ybar = (yb+ya)/2.0\n",
    "    zbar = (zb+za)/2.0\n",
    "    \n",
    "    sum = 0.0\n",
    "    for i in range(len(a)):\n",
    "        sum = sum + wt[i] * (\n",
    "                            func(xbar+a[i]*dx,ybar+a[i]*dy,zbar+a[i]*dz)+\n",
    "                            func(xbar-a[i]*dx,ybar-a[i]*dy,zbar-a[i]*dz)\n",
    "                            )\n",
    "\n",
    "    return 0.5*sum "
   ]
  },
  {
   "cell_type": "code",
   "execution_count": 3,
   "metadata": {
    "collapsed": true
   },
   "outputs": [],
   "source": [
    "def Ax(x,y,z):\n",
    "    p = n.zeros_like(x)\n",
    "    return p\n"
   ]
  },
  {
   "cell_type": "code",
   "execution_count": 4,
   "metadata": {
    "collapsed": true
   },
   "outputs": [],
   "source": [
    "def Ay(x,y,z):\n",
    "    p = n.zeros_like(x)\n",
    "    return p\n"
   ]
  },
  {
   "cell_type": "code",
   "execution_count": 5,
   "metadata": {
    "collapsed": false
   },
   "outputs": [],
   "source": [
    "def Az(x,y,z):\n",
    "    Lx = 25.6\n",
    "    Ly = 12.8\n",
    "    p = -0.1*n.cos(2*n.pi*x/Lx)*n.cos(n.pi*y/Ly);\n",
    "    return p"
   ]
  },
  {
   "cell_type": "code",
   "execution_count": 6,
   "metadata": {
    "collapsed": false
   },
   "outputs": [],
   "source": [
    "os.chdir('/Users/wiltbemj/Dropbox/Python/MHDpy/')\n",
    "import MHDpy"
   ]
  },
  {
   "cell_type": "code",
   "execution_count": 7,
   "metadata": {
    "collapsed": true
   },
   "outputs": [],
   "source": [
    "# Model Parameters\n",
    "NO = 8                # - default 8th order, hard coded for PDM\n",
    "NO2 = NO/2            # num of ghost cells on each end\n",
    "gamma=5./3.             # ratio of the specific heat, 5/3 for ideal gas\n",
    "CFL = 0.3             # Courant number\n",
    "PDMB= 4.0             # PDM beta parameter for controlling numerical diffusion\n",
    "CA=10                 #  speed of light, normalized with VA, \n",
    "                      #    use something like 1e10 no Boris correction\n",
    "limiter_type = 'PDM'  # 'PDM' - 8th order with PDM limiter\n",
    "                      # 'TVD' - 2nd order with Van-Leer limiter\n",
    "                      # '8th' - 8th order without limiter\n",
    "                      # 'WENO'- 5th order with WENO reconstruction \n",
    "                      #         (not tested in the getEk algorithm yet)\n",
    "                      # 'PPM' - 3rd order PPM method (not tested yet)\n",
    "imagedir = '/Users/wiltbemj/Downloads/figs' # directory to store image files\n",
    "imagebase = 'bw' # base name of image files."
   ]
  },
  {
   "cell_type": "code",
   "execution_count": 21,
   "metadata": {
    "collapsed": false
   },
   "outputs": [],
   "source": [
    "nx = 64\n",
    "ny = 32\n",
    "nz = 1\n",
    "\n",
    "(x,y,z)=MHDpy.Generate_Grid_3D_uniform(nx,ny,nz,NO) # This function generate a \n",
    "                                               # uniformly distributed active \n",
    "                                               # grid between -1 and 1 with \n",
    "                                               # nx, ny nz active cells in each \n",
    "                                               # direction\n",
    "(nx_total,ny_total,nz_total)=x.shape           # with NO/2 ghost cells, \n",
    "                                               # nx_total, ny_total, nz_total \n",
    "                                               # are total num of cell corners\n",
    "\n",
    "x = (x+1.)/1.  #map the x grid from [-1 1] to [0 2]\n",
    "y = (y+0.)/1.\n",
    "z = (z+0.)/1.\n",
    "Lx=25.6\n",
    "Ly=12.8\n",
    "x=Lx/2*x\n",
    "y=Ly/2*y\n",
    "# Calculate grids and indices\n",
    "# xc,yc,zc: cell centers\n",
    "# xi,yi,zi: i-face cetners where bi is defined\n",
    "# xj,yj,zj: j-face cetners where bj is defined\n",
    "# xk,yk,zk: k-face cetners where bk is defined\n",
    "# dx,dy,dz: lengths of each cell edge\n",
    "(xc,yc,zc,xi,yi,zi,xj,yj,zj,xk,yk,zk,dx,dy,dz)=MHDpy.Metrics(x,y,z,NO)"
   ]
  },
  {
   "cell_type": "code",
   "execution_count": 78,
   "metadata": {
    "collapsed": false
   },
   "outputs": [],
   "source": [
    "# Define premitive Hydrodynamic variables at cell center\n",
    "rho = n.zeros(xc.shape)\n",
    "vx = n.zeros(xc.shape)\n",
    "vy = n.zeros(xc.shape)\n",
    "vz = n.zeros(xc.shape)\n",
    "p = n.zeros(xc.shape)\n",
    "\n",
    "# Define Magnetic fields at cell faces\n",
    "bi = n.zeros(xi.shape)\n",
    "bj = n.zeros(xj.shape)\n",
    "bk = n.zeros(xk.shape)\n",
    "\n",
    "# Define Electric fields at cell edges\n",
    "Ei = n.zeros((nx_total-1,ny_total,nz_total))\n",
    "Ej = n.zeros((nx_total,ny_total-1,nz_total))\n",
    "Ek = n.zeros((nx_total,ny_total,nz_total-1))\n",
    "  \n",
    "# 2D OGEM Reconnection Challenge\n",
    "mu0 = 4*n.pi*1e-7\n",
    "epsilon0=8.85418782*1e-12\n",
    "c=3e8\n",
    "ech=1.60217657*1e-19\n",
    "Mp = 1.67e-27 #[kg]\n",
    "n0=1e16 #Density of particles per m^-3\n",
    "t0 =Mp/(ech)\n",
    "x0 = c*n.sqrt(epsilon0*Mp/(ech**2*n0)) #[m] \n",
    "u0 = x0/t0    #[m/s] - 100 km/\n",
    "rho0=Mp*n0 # [kg/m^3] \n",
    "p0 = rho0*u0**2 #[N/m^2]\n",
    "B0 = n.sqrt(mu0*rho0*u0**2) # [T]\n",
    "\n",
    "no=1\n",
    "lam=0.5\n",
    "n_inf=0.2*no\n",
    "Psi0=0.1\n",
    "\n",
    "bi[NO2:-NO2+1,NO2:-NO2,NO2:-NO2] = (n.tanh(yi[NO2:-NO2+1,NO2:-NO2,NO2:-NO2]/lam)+\n",
    "    (n.pi/Ly)*Psi0*n.cos(2*n.pi*xi[NO2:-NO2+1,NO2:-NO2,NO2:-NO2]/Lx)*\n",
    "    n.sin(n.pi*yi[NO2:-NO2+1,NO2:-NO2,NO2:-NO2]/Ly))\n",
    "bj[NO2:-NO2,NO2:-NO2+1,NO2:-NO2]=-1.0*((2*n.pi/Lx)*Psi0*\n",
    "    n.sin(2*n.pi*xj[NO2:-NO2,NO2:-NO2+1,NO2:-NO2]/Lx)*\n",
    "    n.cos(n.pi*yj[NO2:-NO2,NO2:-NO2+1,NO2:-NO2]/Ly))\n",
    "bk[NO2:-NO2,NO2:-NO2,NO2:-NO2+1]=0\n",
    "rho[NO2:-NO2,NO2:-NO2,NO2:-NO2]=(no*\n",
    "    (n_inf/no+(1/(n.cosh(yc[NO2:-NO2,NO2:-NO2,NO2:-NO2]/lam)))**2))\n",
    "p[NO2:-NO2,NO2:-NO2,NO2:-NO2]=0.5*(1.0/(n.cosh(yc[NO2:-NO2,NO2:-NO2,NO2:-NO2]/lam)))**2+0.2\n",
    "#\n",
    "# calculate bx, by, bz at cell center, 2nd order accurate, equation (36) in\n",
    "# Lyon et al., [2004] (the 1/8 in Lyon et al., [2004] is actually a typo)\n",
    "bx = (bi[1:,:,:] + bi[:-1,:,:])/2.\n",
    "by = (bj[:,1:,:] + bj[:,:-1,:])/2.\n",
    "bz = (bk[:,:,1:] + bk[:,:,:-1])/2.\n"
   ]
  },
  {
   "cell_type": "code",
   "execution_count": 29,
   "metadata": {
    "collapsed": false
   },
   "outputs": [],
   "source": [
    "LAi = n.zeros(x.shape)\n",
    "LAj = n.zeros(x.shape)\n",
    "LAk = n.zeros(x.shape)\n",
    "for i in range(NO2,nx+NO2):\n",
    "    xijk = x[i,NO2:-NO2+1,NO2:-NO2+1]\n",
    "    xip1 = x[i+1,NO2:-NO2+1,NO2:-NO2+1]\n",
    "    yijk = y[i,NO2:-NO2+1,NO2:-NO2+1]\n",
    "    yip1 = y[i+1,NO2:-NO2+1,NO2:-NO2+1]\n",
    "    zijk = z[i,NO2:-NO2+1,NO2:-NO2+1]\n",
    "    zip1 = z[i+1,NO2:-NO2+1,NO2:-NO2+1]\n",
    "    LAi[i,NO2:-NO2+1,NO2:-NO2+1]=((x[i+1,NO2:-NO2+1,NO2:-NO2+1]-\n",
    "                               x[i,NO2:-NO2+1,NO2:-NO2+1])*\n",
    "                              gaussLineInt(Ax,xip1,yip1,zip1,xijk,yijk,zijk))\n",
    "for j in range(NO2,ny+NO2):\n",
    "    xijk = x[NO2:-NO2,j,NO2:-NO2]\n",
    "    xjp1 = x[NO2:-NO2,j+1,NO2:-NO2]\n",
    "    yijk = y[NO2:-NO2,j,NO2:-NO2]\n",
    "    yjp1 = y[NO2:-NO2,j+1,NO2:-NO2]\n",
    "    zijk = z[NO2:-NO2,j,NO2:-NO2]\n",
    "    zjp1 = z[NO2:-NO2,j+1,NO2:-NO2]\n",
    "    LAj[NO2:-NO2,j,NO2:-NO2]=((y[NO2:-NO2,j+1,NO2:-NO2]-\n",
    "                               y[NO2:-NO2,j,NO2:-NO2])*\n",
    "                              gaussLineInt(Ay,xjp1,yjp1,zjp1,xijk,yijk,zijk))    \n",
    "for k in range(NO2,nz+NO2):\n",
    "    xijk = x[NO2:-NO2,NO2:-NO2,k]\n",
    "    xkp1 = x[NO2:-NO2,NO2:-NO2,k+1]\n",
    "    yijk = y[NO2:-NO2,NO2:-NO2,k]\n",
    "    ykp1 = y[NO2:-NO2,NO2:-NO2,k+1]\n",
    "    zijk = z[NO2:-NO2,NO2:-NO2,k]\n",
    "    zkp1 = z[NO2:-NO2,NO2:-NO2,k+1]\n",
    "    LAk[NO2:-NO2,NO2:-NO2,k]=((z[NO2:-NO2,NO2:-NO2,k+1]-\n",
    "                               z[NO2:-NO2,NO2:-NO2,k])*\n",
    "                              gaussLineInt(Az,xkp1,ykp1,zkp1,xijk,yijk,zijk))"
   ]
  },
  {
   "cell_type": "code",
   "execution_count": 32,
   "metadata": {
    "collapsed": true
   },
   "outputs": [],
   "source": [
    "biFromA = n.zeros(xi.shape)\n",
    "bjFromA = n.zeros(xj.shape)\n",
    "bkFromA = n.zeros(xk.shape)"
   ]
  },
  {
   "cell_type": "code",
   "execution_count": 67,
   "metadata": {
    "collapsed": false
   },
   "outputs": [],
   "source": [
    "biFromA[NO2:-NO2+1,NO2:-NO2,NO2:-NO2] = (LAj[NO2:-NO2+1,NO2:-NO2-1,NO2:-NO2-1] - \n",
    "                                         LAj[NO2:-NO2+1,NO2:-NO2-1,NO2+1:-NO2] +\n",
    "                                         LAk[NO2:-NO2+1,NO2+1:-NO2,NO2:-NO2-1] -\n",
    "                                         LAk[NO2:-NO2+1,NO2:-NO2-1,NO2:-NO2-1])\n",
    "bjFromA[NO2:-NO2:,NO2:-NO2+1,NO2:-NO2] = -(LAi[NO2:-NO2-1,NO2:-NO2+1,NO2:-NO2-1] -\n",
    "                                           LAi[NO2:-NO2-1,NO2:-NO2+1,NO2+1:-NO2] +\n",
    "                                           LAk[NO2+1:-NO2,NO2:-NO2+1,NO2:-NO2-1] -\n",
    "                                           LAk[NO2:-NO2-1,NO2:-NO2+1,NO2:-NO2-1])\n",
    "bkFromA[NO2:-NO2:,NO2:-NO2,NO2:-NO2+1] = (LAi[NO2:-NO2-1,NO2:-NO2-1,NO2:-NO2+1] - \n",
    "                                          LAi[NO2:-NO2-1,NO2+1:-NO2,NO2:-NO2+1] +\n",
    "                                          LAj[NO2+1:-NO2,NO2:-NO2-1,NO2:-NO2+1] -\n",
    "                                          LAj[NO2:-NO2-1,NO2:-NO2-1,NO2:-NO2+1])"
   ]
  },
  {
   "cell_type": "code",
   "execution_count": 95,
   "metadata": {
    "collapsed": true
   },
   "outputs": [],
   "source": [
    "biFromA[NO2:-NO2+1,NO2:-NO2,NO2:-NO2] = (biFromA[NO2:-NO2+1,NO2:-NO2,NO2:-NO2]/\n",
    "                                         dy[NO2:-NO2+2,NO2:-NO2,NO2:-NO2]/\n",
    "                                         dz[NO2:-NO2+2,NO2:-NO2,NO2:-NO2])\n",
    "bjFromA[NO2:-NO2:,NO2:-NO2+1,NO2:-NO2] = (bjFromA[NO2:-NO2:,NO2:-NO2+1,NO2:-NO2]/\n",
    "                                          dz[NO2:-NO2,NO2:-NO2+2,NO2:-NO2]/\n",
    "                                          dx[NO2:-NO2,NO2:-NO2+2,NO2:-NO2])\n",
    "bkFromA[NO2:-NO2:,NO2:-NO2,NO2:-NO2+1] = (bkFromA[NO2:-NO2:,NO2:-NO2,NO2:-NO2+1]/\n",
    "                                          dx[NO2:-NO2,NO2:-NO2,NO2:-NO2+2]/\n",
    "                                          dy[NO2:-NO2,NO2:-NO2,NO2:-NO2+2])"
   ]
  },
  {
   "cell_type": "code",
   "execution_count": 97,
   "metadata": {
    "collapsed": true
   },
   "outputs": [],
   "source": [
    "biFromA[NO2:-NO2+1,NO2:-NO2,NO2:-NO2] = (biFromA[NO2:-NO2+1,NO2:-NO2,NO2:-NO2]+\n",
    "                                         n.tanh(yi[NO2:-NO2+1,NO2:-NO2,NO2:-NO2]/lam))"
   ]
  },
  {
   "cell_type": "code",
   "execution_count": 98,
   "metadata": {
    "collapsed": false
   },
   "outputs": [
    {
     "data": {
      "image/png": "[encoded data removed]",
      "text/plain": [
       "<matplotlib.figure.Figure at 0x11bd04250>"
      ]
     },
     "metadata": {},
     "output_type": "display_data"
    }
   ],
   "source": [
    "golden_mean = (n.sqrt(5)-1.0)/2.0\n",
    "figwidth = 8\n",
    "figheight = 2*figwidth*golden_mean\n",
    "fig,ax=pl.subplots(nrows=2,ncols=2,figsize=(figwidth,figheight))\n",
    "cf0 = ax[0,0].contourf(xi[NO2:-NO2+1,NO2:-NO2,4],yi[NO2:-NO2+1,NO2:-NO2,4],\n",
    "                     bi[NO2:-NO2+1,NO2:-NO2,4])\n",
    "divider0 = make_axes_locatable(ax[0,0])\n",
    "cax0 = divider0.append_axes(\"right\", size=\"20%\", pad=0.05)\n",
    "cbar0 = pl.colorbar(cf0,cax=cax0)\n",
    "ax[0,0].set_title('bi direct method')\n",
    "cf1 = ax[0,1].contourf(xj[NO2:-NO2,NO2:-NO2+1,4],yj[NO2:-NO2,NO2:-NO2+1,4],bj[NO2:-NO2,NO2:-NO2+1,4])\n",
    "ax[0,1].set_title('bj direct method')\n",
    "divider1 = make_axes_locatable(ax[0,1])\n",
    "cax1 = divider1.append_axes(\"right\", size=\"20%\", pad=0.05)\n",
    "cbar1 = pl.colorbar(cf1,cax=cax1)\n",
    "cf2 = ax[1,0].contourf(xi[NO2:-NO2+1,NO2:-NO2,4],yi[NO2:-NO2+1,NO2:-NO2,4],\n",
    "                     biFromA[NO2:-NO2+1,NO2:-NO2,4])\n",
    "\n",
    "divider2 = make_axes_locatable(ax[1,0])\n",
    "cax2 = divider2.append_axes(\"right\", size=\"20%\", pad=0.05)\n",
    "cbar2 = pl.colorbar(cf2,cax=cax2)\n",
    "ax[1,0].set_title('bi Vector  method')\n",
    "cf3 = ax[1,1].contourf(xj[NO2:-NO2,NO2:-NO2+1,4],yj[NO2:-NO2,NO2:-NO2+1,4],\n",
    "                     bjFromA[NO2:-NO2,NO2:-NO2+1,4])\n",
    "ax[1,1].set_title('bj Vector method')\n",
    "divider3 = make_axes_locatable(ax[1,1])\n",
    "cax3 = divider3.append_axes(\"right\", size=\"20%\", pad=0.05)\n",
    "cbar3 = pl.colorbar(cf3,cax=cax3)\n",
    "pl.tight_layout()"
   ]
  }
 ],
 "metadata": {
  "kernelspec": {
   "display_name": "Python 2",
   "language": "python",
   "name": "python2"
  },
  "language_info": {
   "codemirror_mode": {
    "name": "ipython",
    "version": 2
   },
   "file_extension": ".py",
   "mimetype": "text/x-python",
   "name": "python",
   "nbconvert_exporter": "python",
   "pygments_lexer": "ipython2",
   "version": "2.7.11"
  }
 },
 "nbformat": 4,
 "nbformat_minor": 0
}
