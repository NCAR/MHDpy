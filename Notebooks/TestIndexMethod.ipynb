{
 "metadata": {
  "name": "",
  "signature": "sha256:487d1da0c5401b441f50eee364a26cf909412e7d8746294e21e4ad9030599270"
 },
 "nbformat": 3,
 "nbformat_minor": 0,
 "worksheets": [
  {
   "cells": [
    {
     "cell_type": "code",
     "collapsed": false,
     "input": [
      "import numpy  as n\n",
      "import pylab as pl\n",
      "import os,timeit\n",
      "import cProfile,re"
     ],
     "language": "python",
     "metadata": {},
     "outputs": [],
     "prompt_number": 1
    },
    {
     "cell_type": "code",
     "collapsed": false,
     "input": [
      "%pylab inline"
     ],
     "language": "python",
     "metadata": {},
     "outputs": [
      {
       "output_type": "stream",
       "stream": "stdout",
       "text": [
        "Populating the interactive namespace from numpy and matplotlib\n"
       ]
      }
     ],
     "prompt_number": 2
    },
    {
     "cell_type": "code",
     "collapsed": false,
     "input": [
      "ni = 10\n",
      "nj = 10\n",
      "nk = 10\n",
      "var = n.zeros((ni,nj,nk))\n",
      "for i in n.arange(ni):\n",
      "    for j in n.arange(nj):\n",
      "        for k in n.arange(nk):\n",
      "            var[i,j,k] = i + 100.0*j + 1e5*k\n",
      "            "
     ],
     "language": "python",
     "metadata": {},
     "outputs": [],
     "prompt_number": 3
    },
    {
     "cell_type": "code",
     "collapsed": false,
     "input": [
      "var[0,1,1]"
     ],
     "language": "python",
     "metadata": {},
     "outputs": [
      {
       "metadata": {},
       "output_type": "pyout",
       "prompt_number": 4,
       "text": [
        "100100.0"
       ]
      }
     ],
     "prompt_number": 4
    },
    {
     "cell_type": "code",
     "collapsed": false,
     "input": [
      "I = n.arange(ni-1)[:,None,None]\n",
      "J = n.arange(nj-1)[None,:,None]\n",
      "K = n.arange(nk-1)[None,None,:]"
     ],
     "language": "python",
     "metadata": {},
     "outputs": [],
     "prompt_number": 5
    },
    {
     "cell_type": "code",
     "collapsed": false,
     "input": [
      "def centerIJK(x,I,J,K):\n",
      "      xc = 0.125*( x[I,J,K] + x[I,J,K+1] + \n",
      "                x[I+1,J,K+1] + x[I+1,J,K] + \n",
      "                x[I,J+1,K] + x[I,J+1,K+1] + \n",
      "                x[I+1,J+1,K+1] + x[I+1,J+1,K] )\n",
      "      return xc  "
     ],
     "language": "python",
     "metadata": {},
     "outputs": [],
     "prompt_number": 6
    },
    {
     "cell_type": "code",
     "collapsed": false,
     "input": [
      "def centerPython(x):\n",
      "    xc = 0.125*(x[:-1,:-1,:-1] + x[:-1,:-1,1:] +\n",
      "                x[1:,:-1,1:] + x[1:,:-1,:-1] +\n",
      "                x[:-1,1:,:-1] + x[:-1,1:,1:] +\n",
      "                x[1:,1:,1:] + x[1:,1:,:-1])\n",
      "    return xc"
     ],
     "language": "python",
     "metadata": {},
     "outputs": [],
     "prompt_number": 19
    },
    {
     "cell_type": "code",
     "collapsed": false,
     "input": [
      "def centerIJK_test():\n",
      "    centerIJK(var,I,J,K)"
     ],
     "language": "python",
     "metadata": {},
     "outputs": [],
     "prompt_number": 7
    },
    {
     "cell_type": "code",
     "collapsed": false,
     "input": [
      "def centerPython_test():\n",
      "    centerPython(var)"
     ],
     "language": "python",
     "metadata": {},
     "outputs": [],
     "prompt_number": 13
    },
    {
     "cell_type": "code",
     "collapsed": false,
     "input": [
      "ijktest = centerIJK(var,I,J,K)\n",
      "pythontest = centerPython(var)\n",
      "n.count_nonzero(ijktest-pythontest)"
     ],
     "language": "python",
     "metadata": {},
     "outputs": [
      {
       "metadata": {},
       "output_type": "pyout",
       "prompt_number": 22,
       "text": [
        "0"
       ]
      }
     ],
     "prompt_number": 22
    },
    {
     "cell_type": "code",
     "collapsed": false,
     "input": [
      "min(timeit.Timer(centerIJK_test).repeat(repeat=10,number=10))"
     ],
     "language": "python",
     "metadata": {},
     "outputs": [
      {
       "metadata": {},
       "output_type": "pyout",
       "prompt_number": 10,
       "text": [
        "0.0013129711151123047"
       ]
      }
     ],
     "prompt_number": 10
    },
    {
     "cell_type": "code",
     "collapsed": false,
     "input": [
      "min(timeit.Timer(centerPython_test).repeat(repeat=10,number=10))"
     ],
     "language": "python",
     "metadata": {},
     "outputs": [
      {
       "metadata": {},
       "output_type": "pyout",
       "prompt_number": 20,
       "text": [
        "0.00039505958557128906"
       ]
      }
     ],
     "prompt_number": 20
    },
    {
     "cell_type": "code",
     "collapsed": false,
     "input": [
      "timeit.timeit(\"centerIJK_test()\",\n",
      "              setup=\"from __main__ import centerIJK_test\")"
     ],
     "language": "python",
     "metadata": {},
     "outputs": [
      {
       "metadata": {},
       "output_type": "pyout",
       "prompt_number": 26,
       "text": [
        "140.6274151802063"
       ]
      }
     ],
     "prompt_number": 26
    }
   ],
   "metadata": {}
  }
 ]
}