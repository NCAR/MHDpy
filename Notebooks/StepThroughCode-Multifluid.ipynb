{
 "cells": [
  {
   "cell_type": "code",
   "execution_count": 1,
   "metadata": {
    "collapsed": false
   },
   "outputs": [
    {
     "name": "stderr",
     "output_type": "stream",
     "text": [
      "/Users/wiltbemj/Library/Enthought/Canopy_64bit/User/lib/python2.7/site-packages/matplotlib/__init__.py:872: UserWarning: axes.color_cycle is deprecated and replaced with axes.prop_cycle; please use the latter.\n",
      "  warnings.warn(self.msg_depr % (key, alt_key))\n"
     ]
    }
   ],
   "source": [
    "import numpy as n\n",
    "import pylab as pl\n",
    "import time,os,h5py\n",
    "from mpl_toolkits.axes_grid1 import make_axes_locatable\n",
    "from scipy.interpolate import interpolate"
   ]
  },
  {
   "cell_type": "code",
   "execution_count": 2,
   "metadata": {
    "collapsed": false
   },
   "outputs": [],
   "source": [
    "%matplotlib inline"
   ]
  },
  {
   "cell_type": "code",
   "execution_count": 3,
   "metadata": {
    "collapsed": false
   },
   "outputs": [],
   "source": [
    "os.chdir('/Users/wiltbemj/Dropbox/Python/MHDpy/')\n",
    "import MHDpy"
   ]
  },
  {
   "cell_type": "code",
   "execution_count": 4,
   "metadata": {
    "collapsed": false
   },
   "outputs": [],
   "source": [
    "# Model Parameters\n",
    "NO = 8                # - default 8th order, hard coded for PDM\n",
    "NO2 = NO/2            # num of ghost cells on each end\n",
    "gamma=5.0/3.0         # ratio of the specific heat, 5/3 for ideal gas\n",
    "CFL = 0.3             # Courant number\n",
    "PDMB= 4.0             # PDM beta parameter for controlling numerical diffusion\n",
    "CA = 10               # speed of light, normalized with VA, \n",
    "                      #    use something like 1e10 no Boris correction\n",
    "limiter_type = 'PDM'  # 'PDM' - 8th order with PDM limiter\n",
    "                      # 'TVD' - 2nd order with Van-Leer limiter\n",
    "                      # '8th' - 8th order without limiter\n",
    "                      # 'WENO'- 5th order with WENO reconstruction \n",
    "                      #         (not tested in the getEk algorithm yet)\n",
    "                      # 'PPM' - 3rd order PPM method (not tested yet)\n",
    "nsp = 2               # number of species\n",
    "Hall = False          # Hall Term on\n",
    "SaveData = False      # Save the output data\n",
    "\n",
    "imagedir = '/Users/wiltbemj/Downloads/figs' # directory to store image files\n",
    "imagebase = 'gem' # base name of image files\n",
    "imageint = 50 #frequency of images\n",
    "outdir = '/Users/wiltbemj/Downloads/MHDpy' # directory to store HDF5 files\n",
    "outbase = 'gem' # base name of HDF5 files.\n",
    "outint = 50 #Frequency to dump HDF5 files\n",
    "\n"
   ]
  },
  {
   "cell_type": "code",
   "execution_count": 5,
   "metadata": {
    "collapsed": false
   },
   "outputs": [],
   "source": [
    "# Grid information- nx,ny,nz are # of ACTIVE cells (no ghost cell included)\n",
    "# The generated grid are cell corners, the metric function will calculate\n",
    "# cell centers, faces and other grid information\n",
    "nx = 64\n",
    "ny = 32\n",
    "nz = 1\n",
    "(x,y,z)=MHDpy.Generate_Grid_3D_uniform(nx,ny,nz,NO) # This function generate a \n",
    "                                               # uniformly distributed active \n",
    "                                               # grid between -1 and 1 with \n",
    "                                               # nx, ny nz active cells in each \n",
    "                                               # direction\n",
    "(nx_total,ny_total,nz_total)=x.shape           # with NO/2 ghost cells, \n",
    "                                               # nx_total, ny_total, nz_total \n",
    "                                               # are total num of cell corners"
   ]
  },
  {
   "cell_type": "code",
   "execution_count": 6,
   "metadata": {
    "collapsed": false
   },
   "outputs": [],
   "source": [
    "#BW\n",
    "#x = (x+0.0)/1.0 # leave the grid on [-1 1]\n",
    "#y = (y+0.0)/1.0 # y doesn't matter...\n",
    "#z = (z+0.0)/1.0 # z doesn't matter..."
   ]
  },
  {
   "cell_type": "code",
   "execution_count": 7,
   "metadata": {
    "collapsed": false
   },
   "outputs": [],
   "source": [
    "#OT\n",
    "#x = (x+1.0)/2.0 # map the grid from [-1 1] to [-0.5 -.5]\n",
    "#y = (y+1.0)/2.0 # map the grid from [-1 1] to [-0.5 -.5]\n",
    "#z = (z+0.0)/1.0 # z doesn't matter..."
   ]
  },
  {
   "cell_type": "code",
   "execution_count": 8,
   "metadata": {
    "collapsed": true
   },
   "outputs": [],
   "source": [
    "#GEM\n",
    "x = (x+1.)/1.  #map the x grid from [-1 1] to [0 2]\n",
    "y = (y+0.)/1.\n",
    "z = (z+0.)/1.\n",
    "Lx=25.6\n",
    "Ly=12.8\n",
    "x = Lx/2*x\n",
    "y = Ly/2*y"
   ]
  },
  {
   "cell_type": "code",
   "execution_count": 9,
   "metadata": {
    "collapsed": false
   },
   "outputs": [],
   "source": [
    "# Calculate grids and indices\n",
    "# xc,yc,zc: cell centers\n",
    "# xi,yi,zi: i-face cetners where bi is defined\n",
    "# xj,yj,zj: j-face cetners where bj is defined\n",
    "# xk,yk,zk: k-face cetners where bk is defined\n",
    "# dx,dy,dz: lengths of each cell edge\n",
    "(xc,yc,zc,xi,yi,zi,xj,yj,zj,xk,yk,zk,dx,dy,dz)=MHDpy.Metrics(x,y,z,NO)\n",
    "\n",
    "\n"
   ]
  },
  {
   "cell_type": "code",
   "execution_count": 10,
   "metadata": {
    "collapsed": false
   },
   "outputs": [],
   "source": [
    "# Define premitive Hydrodynamic variables at cell center\n",
    "rho = n.zeros(xc.shape)\n",
    "vx = n.zeros(xc.shape)\n",
    "vy = n.zeros(xc.shape)\n",
    "vz = n.zeros(xc.shape)\n",
    "p = n.zeros(xc.shape)\n",
    "\n",
    "# Define species Hydrodynamic variables at cell center\n",
    "rhos = n.zeros((nx_total-1,ny_total-1,nz_total-1,nsp))\n",
    "vxs = n.zeros((nx_total-1,ny_total-1,nz_total-1,nsp))\n",
    "vys = n.zeros((nx_total-1,ny_total-1,nz_total-1,nsp))\n",
    "vzs = n.zeros((nx_total-1,ny_total-1,nz_total-1,nsp))\n",
    "ps = n.zeros((nx_total-1,ny_total-1,nz_total-1,nsp))\n",
    "\n",
    "#define some variables used in the calculation\n",
    "\n",
    "rhos2 = rhos*0.\n",
    "vxs2 = vxs*0.\n",
    "vys2 = vys*0.\n",
    "vzs2 = vzs*.0\n",
    "engs2 = ps*.0\n",
    "species_ratio = rhos*0\n",
    "drho_l = rhos*0\n",
    "alfn_star = rhos*0\n",
    "perp_const_l = rhos*0\n",
    "vxtmp = rhos*0\n",
    "vytmp = rhos*0\n",
    "vztmp = rhos*0\n",
    "vx2_tmp = rhos*0\n",
    "vy2_tmp = rhos*0\n",
    "vz2_tmp = rhos*0\n",
    "vx_para_l = rhos*0\n",
    "vy_para_l = rhos*0\n",
    "vz_para_l = rhos*0\n",
    "vtmp_dotl = rhos*0\n",
    "vtmp_dot_l2 = rhos*0\n",
    "\n",
    "# Define Magnetic fields at cell faces\n",
    "bi = n.zeros(xi.shape)\n",
    "bj = n.zeros(xj.shape)\n",
    "bk = n.zeros(xk.shape)\n",
    "\n",
    "# Define Electric fields at cell edges\n",
    "Ei = n.zeros((nx_total-1,ny_total,nz_total))\n",
    "Ej = n.zeros((nx_total,ny_total-1,nz_total))\n",
    "Ek = n.zeros((nx_total,ny_total,nz_total-1))\n",
    "\n",
    "Time = 0.0"
   ]
  },
  {
   "cell_type": "code",
   "execution_count": 11,
   "metadata": {
    "collapsed": false
   },
   "outputs": [],
   "source": [
    "## 1-D Brio-Wu shock tube problem\n",
    "#rho[xc<0.0] = 1.0\n",
    "#rho[xc>0.0] = 0.125\n",
    "#p[xc<0.0]   = 1.0\n",
    "#p[xc>0.0]   = 0.1\n",
    "#bi[:]  =  0.75\n",
    "#bj[xj<0.0]  = 1.0\n",
    "#bj[xj>0.0] = -1.0"
   ]
  },
  {
   "cell_type": "code",
   "execution_count": 12,
   "metadata": {
    "collapsed": false
   },
   "outputs": [],
   "source": [
    "#xbctype = 'EXP'\n",
    "#ybctype = 'EXP'\n",
    "#zbctype = 'EXP'"
   ]
  },
  {
   "cell_type": "code",
   "execution_count": 13,
   "metadata": {
    "collapsed": false
   },
   "outputs": [],
   "source": [
    "# 2-D Orzag-Tang vortex\n",
    "#rho = rho+25.0/(n.pi*36.0)\n",
    "#p   = p+5.0/(n.pi*12.0)\n",
    "#vx  = -n.sin(2.0*n.pi*yc)\n",
    "#vy  =  n.sin(2.0*n.pi*xc)\n",
    "#bi  = -1.0/n.sqrt(4.0*n.pi)*n.sin(2*n.pi*yi)\n",
    "#bj  = 1.0/n.sqrt(4.0*n.pi)*n.sin(2*n.pi*2*xj)"
   ]
  },
  {
   "cell_type": "code",
   "execution_count": 14,
   "metadata": {
    "collapsed": false
   },
   "outputs": [],
   "source": [
    "#xbctype = 'PER'\n",
    "#ybctype = 'PER'\n",
    "#zbctype = 'EXP'"
   ]
  },
  {
   "cell_type": "code",
   "execution_count": 15,
   "metadata": {
    "collapsed": true
   },
   "outputs": [],
   "source": [
    "# 2D OGEM Reconnection Challenge\n",
    "mu0 = 4*n.pi*1e-7\n",
    "epsilon0=8.85418782*1e-12\n",
    "c=3e8\n",
    "ech=1.60217657*1e-19\n",
    "Mp = 1.67e-27 #[kg]\n",
    "n0=1e16 #Density of particles per m^-3\n",
    "t0 =Mp/(ech)\n",
    "x0 = c*n.sqrt(epsilon0*Mp/(ech**2*n0)) #[m] \n",
    "u0 = x0/t0    #[m/s] - 100 km/\n",
    "rho0=Mp*n0 # [kg/m^3] \n",
    "p0 = rho0*u0**2 #[N/m^2]\n",
    "B0 = n.sqrt(mu0*rho0*u0**2) # [T]\n",
    "\n",
    "no=1\n",
    "lam=0.5\n",
    "n_inf=0.2*no\n",
    "Psi0=0.1\n",
    "\n",
    "\n",
    "#Do Vector Potential Integration for Bi, Bj, Bk\n",
    "LAi = n.zeros(x.shape)\n",
    "LAj = n.zeros(x.shape)\n",
    "LAk = n.zeros(x.shape)\n",
    "for i in range(NO2,nx+NO2):\n",
    "    xijk = x[i,NO2:-NO2+1,NO2:-NO2+1]\n",
    "    xip1 = x[i+1,NO2:-NO2+1,NO2:-NO2+1]\n",
    "    yijk = y[i,NO2:-NO2+1,NO2:-NO2+1]\n",
    "    yip1 = y[i+1,NO2:-NO2+1,NO2:-NO2+1]\n",
    "    zijk = z[i,NO2:-NO2+1,NO2:-NO2+1]\n",
    "    zip1 = z[i+1,NO2:-NO2+1,NO2:-NO2+1]\n",
    "    LAi[i,NO2:-NO2+1,NO2:-NO2+1]=((x[i+1,NO2:-NO2+1,NO2:-NO2+1]-\n",
    "                               x[i,NO2:-NO2+1,NO2:-NO2+1])*\n",
    "                              MHDpy.gaussLineInt(\n",
    "                              MHDpy.Ax,xip1,yip1,zip1,xijk,yijk,zijk))\n",
    "for j in range(NO2,ny+NO2):\n",
    "    xijk = x[NO2:-NO2,j,NO2:-NO2]\n",
    "    xjp1 = x[NO2:-NO2,j+1,NO2:-NO2]\n",
    "    yijk = y[NO2:-NO2,j,NO2:-NO2]\n",
    "    yjp1 = y[NO2:-NO2,j+1,NO2:-NO2]\n",
    "    zijk = z[NO2:-NO2,j,NO2:-NO2]\n",
    "    zjp1 = z[NO2:-NO2,j+1,NO2:-NO2]\n",
    "    LAj[NO2:-NO2,j,NO2:-NO2]=((y[NO2:-NO2,j+1,NO2:-NO2]-\n",
    "                               y[NO2:-NO2,j,NO2:-NO2])*\n",
    "                              MHDpy.gaussLineInt(\n",
    "                              MHDpy.Ay,xjp1,yjp1,zjp1,xijk,yijk,zijk))    \n",
    "for k in range(NO2,nz+NO2):\n",
    "    xijk = x[NO2:-NO2,NO2:-NO2,k]\n",
    "    xkp1 = x[NO2:-NO2,NO2:-NO2,k+1]\n",
    "    yijk = y[NO2:-NO2,NO2:-NO2,k]\n",
    "    ykp1 = y[NO2:-NO2,NO2:-NO2,k+1]\n",
    "    zijk = z[NO2:-NO2,NO2:-NO2,k]\n",
    "    zkp1 = z[NO2:-NO2,NO2:-NO2,k+1]\n",
    "    LAk[NO2:-NO2,NO2:-NO2,k]=((z[NO2:-NO2,NO2:-NO2,k+1]-\n",
    "                               z[NO2:-NO2,NO2:-NO2,k])*\n",
    "                              MHDpy.gaussLineInt(\n",
    "                              MHDpy.Az,xkp1,ykp1,zkp1,xijk,yijk,zijk))\n",
    "\n",
    "# Stokes theorm for bi, bj, bk - face-integrated flux diveded by area\n",
    "bi[NO2:-NO2+1,NO2:-NO2,NO2:-NO2] = (LAj[NO2:-NO2+1,NO2:-NO2-1,NO2:-NO2-1] - \n",
    "                                    LAj[NO2:-NO2+1,NO2:-NO2-1,NO2+1:-NO2] +\n",
    "                                    LAk[NO2:-NO2+1,NO2+1:-NO2,NO2:-NO2-1] -\n",
    "                                    LAk[NO2:-NO2+1,NO2:-NO2-1,NO2:-NO2-1])\n",
    "bj[NO2:-NO2:,NO2:-NO2+1,NO2:-NO2] = -(LAi[NO2:-NO2-1,NO2:-NO2+1,NO2:-NO2-1] -\n",
    "                                      LAi[NO2:-NO2-1,NO2:-NO2+1,NO2+1:-NO2] +\n",
    "                                      LAk[NO2+1:-NO2,NO2:-NO2+1,NO2:-NO2-1] -\n",
    "                                      LAk[NO2:-NO2-1,NO2:-NO2+1,NO2:-NO2-1])\n",
    "bk[NO2:-NO2:,NO2:-NO2,NO2:-NO2+1] = (LAi[NO2:-NO2-1,NO2:-NO2-1,NO2:-NO2+1] - \n",
    "                                     LAi[NO2:-NO2-1,NO2+1:-NO2,NO2:-NO2+1] +\n",
    "                                     LAj[NO2+1:-NO2,NO2:-NO2-1,NO2:-NO2+1] -\n",
    "                                     LAj[NO2:-NO2-1,NO2:-NO2-1,NO2:-NO2+1])\n",
    "bi[NO2:-NO2+1,NO2:-NO2,NO2:-NO2] = (bi[NO2:-NO2+1,NO2:-NO2,NO2:-NO2]/\n",
    "                                    dy[NO2:-NO2+2,NO2:-NO2,NO2:-NO2]/\n",
    "                                    dz[NO2:-NO2+2,NO2:-NO2,NO2:-NO2])\n",
    "bj[NO2:-NO2:,NO2:-NO2+1,NO2:-NO2] = (bj[NO2:-NO2:,NO2:-NO2+1,NO2:-NO2]/\n",
    "                                     dz[NO2:-NO2,NO2:-NO2+2,NO2:-NO2]/\n",
    "                                     dx[NO2:-NO2,NO2:-NO2+2,NO2:-NO2])\n",
    "bk[NO2:-NO2:,NO2:-NO2,NO2:-NO2+1] = (bk[NO2:-NO2:,NO2:-NO2,NO2:-NO2+1]/\n",
    "                                     dx[NO2:-NO2,NO2:-NO2,NO2:-NO2+2]/\n",
    "                                     dy[NO2:-NO2,NO2:-NO2,NO2:-NO2+2])\n",
    "\n"
   ]
  },
  {
   "cell_type": "code",
   "execution_count": 16,
   "metadata": {
    "collapsed": true
   },
   "outputs": [],
   "source": [
    "#specfiy density and pressure\n",
    "rho[NO2:-NO2,NO2:-NO2,NO2:-NO2]=(no*\n",
    "    (n_inf/no+(1/(n.cosh(yc[NO2:-NO2,NO2:-NO2,NO2:-NO2]/lam)))**2))\n",
    "p[NO2:-NO2,NO2:-NO2,NO2:-NO2]=0.5*(\n",
    "                            1.0/(n.cosh(yc[NO2:-NO2,NO2:-NO2,NO2:-NO2]/lam)))**2+0.2\n",
    "\n",
    "#adjust bi\n",
    "bi[NO2:-NO2+1,NO2:-NO2,NO2:-NO2] = (bi[NO2:-NO2+1,NO2:-NO2,NO2:-NO2]+\n",
    "                                  n.tanh(yi[NO2:-NO2+1,NO2:-NO2,NO2:-NO2]/lam))"
   ]
  },
  {
   "cell_type": "code",
   "execution_count": 17,
   "metadata": {
    "collapsed": true
   },
   "outputs": [],
   "source": [
    "# set boundary conditions \n",
    "# For GEM Reconnection x is peroidic and y is inflow/outflow\n",
    "xbctype = 'PER'\n",
    "ybctype = 'OUT'\n",
    "zbctype = 'EXP'"
   ]
  },
  {
   "cell_type": "code",
   "execution_count": 18,
   "metadata": {
    "collapsed": false
   },
   "outputs": [],
   "source": [
    "MHDpy.Boundaries(rho,p,vx,vy,vz,bi,bj,bk,NO,\n",
    "                xtype=xbctype,ytype=ybctype,ztype=zbctype)"
   ]
  },
  {
   "cell_type": "code",
   "execution_count": 19,
   "metadata": {
    "collapsed": false
   },
   "outputs": [],
   "source": [
    "bx = (bi[1:,:,:] + bi[:-1,:,:])/2.\n",
    "by = (bj[:,1:,:] + bj[:,:-1,:])/2.\n",
    "bz = (bk[:,:,1:] + bk[:,:,:-1])/2."
   ]
  },
  {
   "cell_type": "code",
   "execution_count": 20,
   "metadata": {
    "collapsed": false
   },
   "outputs": [],
   "source": [
    "# Get conserved hydrodynamic variables\n",
    "(rho,rhovx,rhovy,rhovz,eng) = MHDpy.getConservedVariables(rho,vx,vy,vz,p,gamma)"
   ]
  },
  {
   "cell_type": "code",
   "execution_count": 21,
   "metadata": {
    "collapsed": true
   },
   "outputs": [],
   "source": [
    "if (nsp > 1):\n",
    "    mass = n.array([1,16]) # ion mass, H+ and O+\n",
    "    rho_weight = n.array([0.8,0.2]) # 20% O+\n",
    "    Ti = n.array([0.2,0.8]) # Partition pressure evenly between two species\n",
    "    for i in n.arange(nsp):\n",
    "        rhos[:,:,:,i] = rho_weight[i]*rho*mass[i]\n",
    "        ps[:,:,:,i] = Ti[i]*p\n",
    "        vxs[:,:,:,i] = vx\n",
    "        vys[:,:,:,i] = vy\n",
    "        vzs[:,:,:,i] = vz\n",
    "        MHDpy.Boundaries(rhos[:,:,:,i],ps[:,:,:,i],vxs[:,:,:,i],vys[:,:,:,i],vzs[:,:,:,i],bi,bj,bk,NO,\n",
    "                xtype=xbctype,ytype=ybctype,ztype=zbctype)\n",
    "    rho = n.sum(rhos,axis=3)\n",
    "    p = n.sum(ps,axis=3) "
   ]
  },
  {
   "cell_type": "code",
   "execution_count": 22,
   "metadata": {
    "collapsed": true
   },
   "outputs": [],
   "source": [
    "# Get conserved hydrodynamic variables - species\n",
    "(rhos,rhovxs,rhovys,rhovzs,engs) = MHDpy.getConservedVariables(rhos,vxs,vys,vzs,\n",
    "                                                                ps,gamma)"
   ]
  },
  {
   "cell_type": "code",
   "execution_count": 23,
   "metadata": {
    "collapsed": false
   },
   "outputs": [],
   "source": [
    "dt0 = MHDpy.getDT(rho,vx,vy,vz,bx,by,bz,p,gamma,dx,dy,dz,CFL)"
   ]
  },
  {
   "cell_type": "code",
   "execution_count": 24,
   "metadata": {
    "collapsed": false
   },
   "outputs": [
    {
     "data": {
      "text/plain": [
       "0.041485995699857808"
      ]
     },
     "execution_count": 24,
     "metadata": {},
     "output_type": "execute_result"
    }
   ],
   "source": [
    "dt0"
   ]
  },
  {
   "cell_type": "code",
   "execution_count": 25,
   "metadata": {
    "collapsed": false
   },
   "outputs": [],
   "source": [
    "# Save the initial states for the first Adam-Bashforth time stepping\n",
    "rho_p = rho*1.\n",
    "vx_p = vx*1.\n",
    "vy_p = vy*1.\n",
    "vz_p = vz*1.\n",
    "p_p= p*1.\n",
    "bx_p = bx*1.\n",
    "by_p = by*1.\n",
    "bz_p = bz*1.\n",
    "\n",
    "bi_p = bi*1.\n",
    "bj_p = bj*1.\n",
    "bk_p = bk*1.\n",
    "\n",
    "rhos_p = rhos*1.\n",
    "vxs_p = vxs*1.\n",
    "vys_p = vys*1.\n",
    "vzs_p = vzs*1.\n",
    "ps_p= ps*1."
   ]
  },
  {
   "cell_type": "code",
   "execution_count": 26,
   "metadata": {
    "collapsed": false
   },
   "outputs": [],
   "source": [
    "# MAIN LOOP\n",
    "# simulation Time information\n",
    "count = 0\n",
    "Nstep=10000\n",
    "Time = 0\n",
    "RealT=0\n",
    "step=0\n",
    "imageNum=0\n",
    "flux = []\n",
    "simTime = []"
   ]
  },
  {
   "cell_type": "code",
   "execution_count": 27,
   "metadata": {
    "collapsed": false
   },
   "outputs": [],
   "source": [
    "# calculate wave speeds for dt\n",
    "Btotal = n.sqrt(bx**2+by**2+bz**2)\n",
    "Valfvn = Btotal/n.sqrt(rho)\n",
    "Va_eff = Valfvn*CA/n.sqrt(Valfvn**2+CA**2) # Boris-corrected VA\n",
    "\n",
    "# Whistler speed, k*V_A^2, here I use k = 2*pi/(2*dy)\n",
    "if(Hall):\n",
    "    Vwist1 = 2.0*n.pi/(2*dy.min())*Va_eff**2\n",
    "else:\n",
    "    Vwist1 = n.zeros_like(Va_eff)\n",
    "\n",
    "# wave speed for multi species: V_A+C_alpha+V_alpha+V_whistler\n",
    "if(nsp > 1):\n",
    "    Vsounds = n.sqrt(gamma*ps/rhos)\n",
    "    Vfluids = n.sqrt(vxs**2+vys**2+vzs**2)\n",
    "    temp = n.max((Vsounds+Vfluids),axis=3)\n",
    "    VCFL = temp+Va_eff+Vwist1\n",
    "else:\n",
    "    Vfluid = n.sqrt(vx**2+vy**2+vz**2)\n",
    "    Vsound = n.sqrt(gamma*p/rho)\n",
    "    VCFL = Vfluid+Va_eff+Vsound+Vwist1\n",
    "\n",
    "dtCFL = CFL /(VCFL/dx+VCFL/dy+VCFL/dz)\n",
    "dt = dtCFL.min()\n",
    "\n",
    "Time = Time + dt"
   ]
  },
  {
   "cell_type": "code",
   "execution_count": 29,
   "metadata": {
    "collapsed": true
   },
   "outputs": [],
   "source": [
    "    # get conserved variables-bulk\n",
    "    (rho,rhovx,rhovy,rhovz,eng) = MHDpy.getConservedVariables(rho,vx,vy,vz,\n",
    "                                                                p,gamma)\n",
    "    # Get conserved hydrodynamic variables - species\n",
    "    (rhos,rhovxs,rhovys,rhovzs,engs) = MHDpy.getConservedVariables(rhos,vxs,vys,\n",
    "                                                                vzs,ps,gamma)"
   ]
  },
  {
   "cell_type": "code",
   "execution_count": 30,
   "metadata": {
    "collapsed": true
   },
   "outputs": [],
   "source": [
    "    # Step 1: get the half time step values - bulk\n",
    "    rho_h = rho + dt/dt0/2*(rho-rho_p)\n",
    "    vx_h = vx + dt/dt0/2*(vx-vx_p)\n",
    "    vy_h = vy + dt/dt0/2*(vy-vy_p)\n",
    "    vz_h = vz + dt/dt0/2*(vz-vz_p)\n",
    "    p_h = p + dt/dt0/2*(p-p_p)\n",
    "    bx_h = bx + dt/dt0/2*(bx-bx_p)\n",
    "    by_h = by + dt/dt0/2*(by-by_p)\n",
    "    bz_h = bz + dt/dt0/2*(bz-bz_p)\n",
    "    bi_h = bi + dt/dt0/2*(bi-bi_p)\n",
    "    bj_h = bj + dt/dt0/2*(bj-bj_p)\n",
    "    bk_h = bk + dt/dt0/2*(bk-bk_p)  \n",
    "        \n",
    "    rho0 = rho*1.\n",
    "    rhovx0 = rhovx*1.\n",
    "    rhovy0 = rhovy*1.\n",
    "    rhovz0 = rhovz*1.\n",
    "    eng0 = eng*1.\n",
    "    \n",
    "    # Step 1: get the half time step values - species\n",
    "    rhos_h = rhos + dt/dt0/2*(rhos-rhos_p)\n",
    "    vxs_h = vxs + dt/dt0/2*(vxs-vxs_p)\n",
    "    vys_h = vys + dt/dt0/2*(vys-vys_p)\n",
    "    vzs_h = vzs + dt/dt0/2*(vzs-vzs_p)\n",
    "    ps_h = ps + dt/dt0/2*(ps-ps_p)\n",
    "    \n",
    "    rhos0 = rhos*1.\n",
    "    rhovxs0 = rhovxs*1.\n",
    "    rhovys0 = rhovys*1.\n",
    "    rhovzs0 = rhovzs*1.\n",
    "    engs0 = engs*1."
   ]
  },
  {
   "cell_type": "code",
   "execution_count": 31,
   "metadata": {
    "collapsed": true
   },
   "outputs": [],
   "source": [
    "    # save the current state vector for next AB time stepping\n",
    "    rho_p = rho*1.\n",
    "    vx_p = vx*1.\n",
    "    vy_p = vy*1.\n",
    "    vz_p = vz*1.\n",
    "    bx_p = bx*1.\n",
    "    by_p = by*1.\n",
    "    bz_p = bz*1.\n",
    "    bi_p = bi*1.\n",
    "    bj_p = bj*1.\n",
    "    bk_p = bk *1.   \n",
    "    p_p= p*1.\n",
    "    dt0 = dt*1.\n",
    "    rhos_p = rhos*1.\n",
    "    vxs_p = vxs*1.\n",
    "    vys_p = vys*1.\n",
    "    vzs_p = vzs*1.   \n",
    "    ps_p= ps*1. \n",
    "      \n",
    "    bx0 = bx*1.\n",
    "    by0 = by*1.\n",
    "    bz0 = bz*1.\n",
    "    vx0 = vx*1.\n",
    "    vy0 = vy*1.\n",
    "    vz0 = vz*1.\n",
    "    vxs0 = vxs*1.\n",
    "    vys0 = vys*1.\n",
    "    vzs0 = vzs*1.    "
   ]
  },
  {
   "cell_type": "code",
   "execution_count": 32,
   "metadata": {
    "collapsed": false
   },
   "outputs": [],
   "source": [
    "    # Get the single-fluid stresses including the magnetic stress\n",
    "    (drho,dpxF,dpyF,dpzF,deng,dpxB,dpyB,dpzB) = MHDpy.Hydro1(rho_h,\n",
    "        vx_h,vy_h,vz_h,p_h,bx_h,by_h,bz_h,dx,dy,dz,\n",
    "        NO2,PDMB,limiter_type,gamma,dt,CA)\n",
    "        \n",
    "    #Step 2 Calculat the electric field, no resistivity term    \n",
    "    (Ei,Ej,Ek) = MHDpy.getEk(vx_h,vy_h,vz_h,rho_h,p_h,gamma,\n",
    "                            bi_h,bj_h,bk_h,bx_h,by_h,bz_h,\n",
    "                            NO2,PDMB,limiter_type)\n",
    "                            "
   ]
  },
  {
   "cell_type": "code",
   "execution_count": 33,
   "metadata": {
    "collapsed": false
   },
   "outputs": [
    {
     "data": {
      "text/plain": [
       "<matplotlib.collections.PolyCollection at 0x1153a1390>"
      ]
     },
     "execution_count": 33,
     "metadata": {},
     "output_type": "execute_result"
    },
    {
     "data": {
      "image/png": "[encoded data removed]",
      "text/plain": [
       "<matplotlib.figure.Figure at 0x112c98810>"
      ]
     },
     "metadata": {},
     "output_type": "display_data"
    }
   ],
   "source": [
    "k = 0\n",
    "pl.pcolor(xk[NO2:-NO2+1,NO2:-NO2+1,4],yk[NO2:-NO2+1,NO2:-NO2+1,4],\n",
    "                            Ek[:,:,k])"
   ]
  },
  {
   "cell_type": "code",
   "execution_count": 34,
   "metadata": {
    "collapsed": false
   },
   "outputs": [],
   "source": [
    "    #Calculate current from the magnetic stresses, note dpB = JxB*dt\n",
    "    JxB_x = dpxB/dt\n",
    "    JxB_y = dpyB/dt\n",
    "    JxB_z = dpzB/dt\n",
    "    \n",
    "    B = n.sqrt(bx_h**2+by_h**2+bz_h**2)\n",
    "    bxn = bx_h/B**2\n",
    "    byn = by_h/B**2\n",
    "    bzn = bz_h/B**2\n",
    "    \n",
    "    Jxc = byn*JxB_z - bzn*JxB_y\n",
    "    Jyc = bzn*JxB_x - bxn*JxB_z\n",
    "    Jzc = bxn*JxB_y - byn*JxB_x\n",
    "    "
   ]
  },
  {
   "cell_type": "code",
   "execution_count": 35,
   "metadata": {
    "collapsed": false
   },
   "outputs": [],
   "source": [
    "    #Calculate Hall electric fields from currents\n",
    "    if (Hall): \n",
    "        vx_Hall = Jxc/rho_h\n",
    "        vy_Hall = Jyc/rho_h\n",
    "        vz_Hall = Jzc/rho_h\n",
    "        #apply BC for v_Hall\n",
    "        MHDpy.Boundaries(rho,p,vx_Hall,vy_Hall,vz_Hall,bi,bj,bk,NO,\n",
    "                xtype=xbctype,ytype=ybctype,ztype=zbctype)\n",
    "        # Hall drift velocity - not used in the Courant condition\n",
    "        Vhdrif = n.sqrt(vx_Hall**2+vy_Hall**2+vz_Hall**2)\n",
    "        \n",
    "        # minimun dx for Whistler speed estimation\n",
    "        d_min = dy.min()\n",
    "        \n",
    "        # calculate the Hall electric field, use the same code getEk, with\n",
    "        # additional diffusion \n",
    "        (Ei_Hall,Ej_Hall,Ek_Hall) = MHDpy.getEk_Hall(vx_Hall,vy_Hall,vz_Hall,\n",
    "            rho_h,p_h,gamma,bi_h,bj_h,bk_h,bx_h,by_h,bz_h,\n",
    "            d_min,PDMB,limiter_type,CA)\n",
    "        \n",
    "        # the total electric field is then E + E_Hall\n",
    "        Ei = Ei + Ei_Hall\n",
    "        Ej = Ej + Ej_Hall\n",
    "        Ek = Ek + Ek_Hall"
   ]
  },
  {
   "cell_type": "code",
   "execution_count": 36,
   "metadata": {
    "collapsed": false
   },
   "outputs": [],
   "source": [
    "    # update face-center magnetic fields (bi,bj,bk) through Faraday's law\n",
    "    bi[NO2:-NO2,NO2:-NO2,NO2:-NO2] = bi[NO2:-NO2,NO2:-NO2,NO2:-NO2] - dt*( \n",
    "        1/dy[NO2:-NO2+1,NO2:-NO2,NO2:-NO2]*(Ek[:,1:,:]-Ek[:,:-1,:]) -\n",
    "        1/dz[NO2:-NO2+1,NO2:-NO2,NO2:-NO2]*(Ej[:,:,1:]-Ej[:,:,:-1]) )\n",
    "    bj[NO2:-NO2,NO2:-NO2,NO2:-NO2] = bj[NO2:-NO2,NO2:-NO2,NO2:-NO2] - dt*( \n",
    "        1/dz[NO2:-NO2,NO2:-NO2+1,NO2:-NO2]*(Ei[:,:,1:]-Ei[:,:,:-1])-\n",
    "        1/dx[NO2:-NO2,NO2:-NO2+1,NO2:-NO2]*(Ek[1:,:,:]-Ek[:-1,:,:]) )\n",
    "    bk[NO2:-NO2,NO2:-NO2,NO2:-NO2] = bk[NO2:-NO2,NO2:-NO2,NO2:-NO2] - dt*( \n",
    "        1/dx[NO2:-NO2,NO2:-NO2,NO2:-NO2+1]*(Ej[1:,:,:]-Ej[:-1,:,:])-\n",
    "        1/dy[NO2:-NO2,NO2:-NO2,NO2:-NO2+1]*(Ei[:,1:,:]-Ei[:,:-1,:]) ) \n",
    "    \n",
    "    # calculate bx, by, bz at cell center, 2nd order accurate,    \n",
    "    bx = (bi[1:,:,:] + bi[:-1,:,:])/2.\n",
    "    by = (bj[:,1:,:] + bj[:,:-1,:])/2.\n",
    "    bz = (bk[:,:,1:] + bk[:,:,:-1])/2.                                              \n",
    "    \n",
    "    # get mid-time step total B field, using volume-averaged B at cell\n",
    "    # this is B(n+1/2)\n",
    "    bx1 = 0.5*(bx+bx0)\n",
    "    by1 = 0.5*(by+by0)\n",
    "    bz1 = 0.5*(bz+bz0)\n",
    "    #this is B(n+1)\n",
    "    bx2 = bx*1.\n",
    "    by2 = by*1.\n",
    "    bz2 = bz*1.  "
   ]
  },
  {
   "cell_type": "code",
   "execution_count": 54,
   "metadata": {
    "collapsed": false
   },
   "outputs": [],
   "source": [
    "    if (nsp > 1):\n",
    "        # Gas Hydro for each species\n",
    "        for i in n.arange(nsp):\n",
    "            (rho2temp,vx2temp,vy2temp,vz2temp,eng2temp) = MHDpy.Gas_Hydro1(\n",
    "                rhos_h[:,:,:,i],vxs_h[:,:,:,i],vys_h[:,:,:,i],vzs_h[:,:,:,i],\n",
    "                ps_h[:,:,:,i],dx,dy,dz,NO2,PDMB,limiter_type,gamma,dt,CA)\n",
    "            rhos2[:,:,:,i] = rho2temp\n",
    "            vxs2[:,:,:,i] = vx2temp\n",
    "            vys2[:,:,:,i] = vy2temp\n",
    "            vzs2[:,:,:,i] = vz2temp\n",
    "            engs2[:,:,:,i] = eng2temp\n",
    "        rhos[NO2:-NO2,NO2:-NO2,NO2:-NO2,:] = (\n",
    "            rhos0[NO2:-NO2,NO2:-NO2,NO2:-NO2,:]+\n",
    "            rhos2[NO2:-NO2,NO2:-NO2,NO2:-NO2,:])\n",
    "        rhovxs[NO2:-NO2,NO2:-NO2,NO2:-NO2,:] = (\n",
    "            rhovxs0[NO2:-NO2,NO2:-NO2,NO2:-NO2,:]+\n",
    "            vxs2[NO2:-NO2,NO2:-NO2,NO2:-NO2,:])\n",
    "        rhovys[NO2:-NO2,NO2:-NO2,NO2:-NO2,:] = (\n",
    "            rhovys0[NO2:-NO2,NO2:-NO2,NO2:-NO2,:]+\n",
    "            vys2[NO2:-NO2,NO2:-NO2,NO2:-NO2,:])                    \n",
    "        rhovzs[NO2:-NO2,NO2:-NO2,NO2:-NO2,:] = (\n",
    "            rhovzs0[NO2:-NO2,NO2:-NO2,NO2:-NO2,:]+\n",
    "            vzs2[NO2:-NO2,NO2:-NO2,NO2:-NO2,:])\n",
    "        engs[NO2:-NO2,NO2:-NO2,NO2:-NO2,:] = (\n",
    "            engs0[NO2:-NO2,NO2:-NO2,NO2:-NO2,:]+\n",
    "            engs2[NO2:-NO2,NO2:-NO2,NO2:-NO2,:])\n",
    "            \n",
    "        vxs[NO2:-NO2,NO2:-NO2,NO2:-NO2,:] = (\n",
    "            rhovxs[NO2:-NO2,NO2:-NO2,NO2:-NO2,:]/\n",
    "            (n.spacing(1)+rhos[NO2:-NO2,NO2:-NO2,NO2:-NO2,:]))             \n",
    "        vys[NO2:-NO2,NO2:-NO2,NO2:-NO2,:] = (\n",
    "            rhovys[NO2:-NO2,NO2:-NO2,NO2:-NO2,:]/\n",
    "            (n.spacing(1)+rhos[NO2:-NO2,NO2:-NO2,NO2:-NO2,:]))\n",
    "        vzs[NO2:-NO2,NO2:-NO2,NO2:-NO2,:] = (\n",
    "            rhovzs[NO2:-NO2,NO2:-NO2,NO2:-NO2,:]/\n",
    "            (n.spacing(1)+rhos[NO2:-NO2,NO2:-NO2,NO2:-NO2,:]))\n",
    "        ps[NO2:-NO2,NO2:-NO2,NO2:-NO2,:] = (\n",
    "           engs[NO2:-NO2,NO2:-NO2,NO2:-NO2,:] - \n",
    "           0.5*rhos[NO2:-NO2,NO2:-NO2,NO2:-NO2,:]*(\n",
    "           vxs[NO2:-NO2,NO2:-NO2,NO2:-NO2,:]**2+\n",
    "           vys[NO2:-NO2,NO2:-NO2,NO2:-NO2,:]**2+\n",
    "           vzs[NO2:-NO2,NO2:-NO2,NO2:-NO2,:]**2))*(gamma-1)\n",
    "        #set pressure to zero where density is zero\n",
    "        ps[rhos == 0] = 0\n",
    "        #put the total mass and fluid stress changes in the bulk changes\n",
    "        #sum over last dimension of stress/flux, these are used to calculate\n",
    "        #velocities for each spcies and bulk\n",
    "        drho = n.sum(rhos2,axis=3)\n",
    "        dpxF = n.sum(vxs2,axis=3)\n",
    "        dpyF = n.sum(vys2,axis=3)\n",
    "        dpzF = n.sum(vzs2,axis=3)\n",
    "        deng = n.sum(engs2,axis=3) "
   ]
  },
  {
   "cell_type": "code",
   "execution_count": 52,
   "metadata": {
    "collapsed": false
   },
   "outputs": [
    {
     "name": "stdout",
     "output_type": "stream",
     "text": [
      "0.0600000000102 0.188345817912\n"
     ]
    }
   ],
   "source": [
    "print engs[:,:,:,0].min(),engs[:,:,:,0].max()"
   ]
  },
  {
   "cell_type": "code",
   "execution_count": null,
   "metadata": {
    "collapsed": false
   },
   "outputs": [],
   "source": [
    "print vy2temp.min(),vy2temp.max()"
   ]
  },
  {
   "cell_type": "code",
   "execution_count": 57,
   "metadata": {
    "collapsed": false
   },
   "outputs": [],
   "source": [
    "    rho[NO2:-NO2,NO2:-NO2,NO2:-NO2] = (\n",
    "            rho0[NO2:-NO2,NO2:-NO2,NO2:-NO2]+\n",
    "            drho[NO2:-NO2,NO2:-NO2,NO2:-NO2])\n",
    "    rhovx[NO2:-NO2,NO2:-NO2,NO2:-NO2] = (\n",
    "            rhovx0[NO2:-NO2,NO2:-NO2,NO2:-NO2]+\n",
    "            dpxF[NO2:-NO2,NO2:-NO2,NO2:-NO2])\n",
    "    rhovy[NO2:-NO2,NO2:-NO2,NO2:-NO2] = (\n",
    "            rhovy0[NO2:-NO2,NO2:-NO2,NO2:-NO2]+\n",
    "            dpyF[NO2:-NO2,NO2:-NO2,NO2:-NO2])                    \n",
    "    rhovz[NO2:-NO2,NO2:-NO2,NO2:-NO2] = (\n",
    "            rhovz0[NO2:-NO2,NO2:-NO2,NO2:-NO2]+\n",
    "            dpzF[NO2:-NO2,NO2:-NO2,NO2:-NO2])\n",
    "    eng[NO2:-NO2,NO2:-NO2,NO2:-NO2] = (\n",
    "            eng0[NO2:-NO2,NO2:-NO2,NO2:-NO2]+\n",
    "            deng[NO2:-NO2,NO2:-NO2,NO2:-NO2])\n",
    "                                                                                      \n",
    "    # get plasma pressure - now rho and p are solved (to O(dt)?)\n",
    "    vx = rhovx/rho\n",
    "    vy = rhovy/rho\n",
    "    vz = rhovz/rho\n",
    "    p = (eng - 0.5*rho*(vx**2+vy**2+vz**2))*(gamma-1)"
   ]
  },
  {
   "cell_type": "code",
   "execution_count": 58,
   "metadata": {
    "collapsed": false
   },
   "outputs": [],
   "source": [
    "    # now apply the magnetic stress with Borris correction\n",
    "    rho1 = rho\n",
    "    b1 = n.sqrt(bx1**2+by1**2+bz1**2)\n",
    "    b2 = n.sqrt(bx2**2+by2**2+bz2**2)\n",
    "    alfn_ratio = b1**2/rho1/CA**2\n",
    "    perp_ratio = 1.0/(1+alfn_ratio)\n",
    "    bdx = dpxB/rho*perp_ratio\n",
    "    bdy = dpyB/rho*perp_ratio\n",
    "    bdz = dpzB/rho*perp_ratio\n",
    "    # then update the bulk momentum with Alfven correction\n",
    "    dv_alf = alfn_ratio*drho\n",
    "    vx_tmp = alfn_ratio*(dpxF - drho*vx0)\n",
    "    vy_tmp = alfn_ratio*(dpyF - drho*vy0)\n",
    "    vz_tmp = alfn_ratio*(dpzF - drho*vz0)\n",
    "    bdotv = bx1*vx_tmp+by1*vy_tmp+bz1*vz_tmp\n",
    "    bdotv = bdotv/(b1**2+1e-10)\n",
    "    rhovx = rhovx0 + perp_ratio *(dpxF + dpxB + dv_alf*vx0+bx1*bdotv)\n",
    "    rhovy = rhovy0 + perp_ratio *(dpyF + dpyB + dv_alf*vy0+by1*bdotv)\n",
    "    rhovz = rhovz0 + perp_ratio *(dpzF + dpzB + dv_alf*vz0+bz1*bdotv)\n",
    "    \n",
    "    # Get the new velocities with correction magnetic stress\n",
    "    # now bulk vx,vy,vz are solved\n",
    "    # NB - In the multifluid branch these velocities are used as perp \n",
    "    # velocities for every species since they are required to have same Vperp\n",
    "    vx_new = rhovx/rho\n",
    "    vy_new = rhovy/rho\n",
    "    vz_new = rhovz/rho    "
   ]
  },
  {
   "cell_type": "code",
   "execution_count": 73,
   "metadata": {
    "collapsed": false
   },
   "outputs": [],
   "source": [
    "    if (nsp > 1):\n",
    "        #Multi-species block\n",
    "        # Calculate the perp bulk for each species\n",
    "        vnewdotb = (bx2*vx_new+by2*vy_new+bz2*vz_new)/(b2**2+n.spacing(1))\n",
    "        vxnew_perp = vx_new - bx2*vnewdotb\n",
    "        vynew_perp = vy_new - by2*vnewdotb\n",
    "        vznew_perp = vz_new - bz2*vnewdotb\n",
    "        # Calculate the perp bulk fluid stress\n",
    "        v2dotb = (bx1*dpxF + by1*dpyF + bz1*dpzF)/(b1**2+n.spacing(1));\n",
    "        vx2_perp = dpxF - bx1*v2dotb\n",
    "        vy2_perp = dpyF - by1*v2dotb\n",
    "        vz2_perp = dpzF - bz1*v2dotb\n",
    "        for ns in n.arange(nsp):\n",
    "            #first estimate the Alfven constant for the perp momentum\n",
    "            species_ratio[:,:,:,ns]=0.5*(rhos0[:,:,:,ns]/rho0[:,:,:] + \n",
    "                                            rhos[:,:,:,ns]/rho[:,:,:])\n",
    "            drho_l[:,:,:,ns] = (rhos[:,:,:,ns]-rhos0[:,:,:,ns])\n",
    "            alfn_star[:,:,:,ns] = alfn_ratio[:,:,:]*(1 - \n",
    "                0.5*drho_l[:,:,:,ns]/rhos[:,:,:,ns])\n",
    "            perp_const_l[:,:,:,ns] = 1/(1+alfn_star[:,:,:,ns])\n",
    "            drho_l[:,:,:,ns] = drho_l[:,:,:,ns]*alfn_star[:,:,:,ns]\n",
    "            \n",
    "            # apply the corrected momentum to each species without rotation\n",
    "            vxtmp[:,:,:,ns] = ((1+alfn_star[:,:,:,ns])*vxs2[:,:,:,ns] - \n",
    "                                drho_l[:,:,:,ns]*vxs0[:,:,:,ns])\n",
    "            vytmp[:,:,:,ns] = ((1+alfn_star[:,:,:,ns])*vys2[:,:,:,ns] - \n",
    "                                drho_l[:,:,:,ns]*vys0[:,:,:,ns])\n",
    "            vztmp[:,:,:,ns] = ((1+alfn_star[:,:,:,ns])*vzs2[:,:,:,ns] - \n",
    "                                drho_l[:,:,:,ns]*vzs0[:,:,:,ns])\n",
    "            vtmp_dotl[:,:,:,ns] = ((bx1[:,:,:]*vxtmp[:,:,:,ns] + \n",
    "                                    by1[:,:,:]*vytmp[:,:,:,ns] + \n",
    "                                    bz1[:,:,:]*vztmp[:,:,:,ns])/\n",
    "                                    (b1[:,:,:]**2+n.spacing(1)))\n",
    "            vx2_tmp[:,:,:,ns] = ((rhovxs0[:,:,:,ns] + \n",
    "                    perp_const_l[:,:,:,ns]*(drho_l[:,:,:,ns]*vxs0[:,:,:,ns] + \n",
    "                    species_ratio[:,:,:,ns]*vx2_perp + \n",
    "                    bx1[:,:,:]*vtmp_dotl[:,:,:,ns] ))/rhos[:,:,:,ns] +\n",
    "                                bdx[:,:,:])\n",
    "            vy2_tmp[:,:,:,ns] = ((rhovys0[:,:,:,ns] + \n",
    "                    perp_const_l[:,:,:,ns]*(drho_l[:,:,:,ns]*vys0[:,:,:,ns] + \n",
    "                    species_ratio[:,:,:,ns]*vy2_perp +\n",
    "                    by1[:,:,:]*vtmp_dotl[:,:,:,ns] ))/rhos[:,:,:,ns] +\n",
    "                                bdy[:,:,:])\n",
    "            vz2_tmp[:,:,:,ns] = ((rhovzs0[:,:,:,ns] + \n",
    "                    perp_const_l[:,:,:,ns]*(drho_l[:,:,:,ns]*vzs0[:,:,:,ns] + \n",
    "                    species_ratio[:,:,:,ns]*vz2_perp + \n",
    "                    bz1[:,:,:]*vtmp_dotl[:,:,:,ns] ))/rhos[:,:,:,ns] + \n",
    "                                bdz[:,:,:])\n",
    "                      \n",
    "            # rotate to the b(n+1) direction to include the dB/dt term\n",
    "            vtmp_dot_l2[:,:,:,ns] = ((bx2[:,:,:]*vx2_tmp[:,:,:,ns] + \n",
    "                                      by2[:,:,:]*vy2_tmp[:,:,:,ns] + \n",
    "                                      bz2[:,:,:]*vz2_tmp[:,:,:,ns])/\n",
    "                                      (b2[:,:,:]**2+n.spacing(1)))          \n",
    "            vx_para_l[:,:,:,ns] = vtmp_dot_l2[:,:,:,ns]*bx2[:,:,:]\n",
    "            vy_para_l[:,:,:,ns] = vtmp_dot_l2[:,:,:,ns]*by2[:,:,:]\n",
    "            vz_para_l[:,:,:,ns] = vtmp_dot_l2[:,:,:,ns]*bz2[:,:,:]\n",
    "            \n",
    "            # adding the common perp velocity to each species\n",
    "            vxs[:,:,:,ns] = vxnew_perp[:,:,:]+vx_para_l[:,:,:,ns]\n",
    "            vys[:,:,:,ns] = vynew_perp[:,:,:]+vy_para_l[:,:,:,ns]\n",
    "            vzs[:,:,:,ns] = vznew_perp[:,:,:]+vz_para_l[:,:,:,ns]\n",
    "        # apply BC for each species\n",
    "        for ns in n.arange(nsp):\n",
    "                MHDpy.Boundaries(rhos[:,:,:,ns],ps[:,:,:,ns],\n",
    "                vxs[:,:,:,ns],vys[:,:,:,ns],vzs[:,:,:,ns],bi,bj,bk,NO,\n",
    "                xtype=xbctype,ytype=ybctype,ztype=zbctype)\n",
    "        vx = n.sum(vxs*rhos,axis=3)/rho\n",
    "        vy = n.sum(vys*rhos,axis=3)/rho\n",
    "        vz = n.sum(vzs*rhos,axis=3)/rho\n",
    "        p = n.sum(ps,axis=3)\n",
    "    else:\n",
    "        #single fluid block\n",
    "        vx = vx_new\n",
    "        vy = vy_new\n",
    "        vz = vz_new"
   ]
  },
  {
   "cell_type": "code",
   "execution_count": 66,
   "metadata": {
    "collapsed": false
   },
   "outputs": [
    {
     "name": "stdout",
     "output_type": "stream",
     "text": [
      "0.0400000000068 0.500774022476\n"
     ]
    }
   ],
   "source": [
    "print ps.min(),ps.max()"
   ]
  },
  {
   "cell_type": "code",
   "execution_count": 74,
   "metadata": {
    "collapsed": false
   },
   "outputs": [
    {
     "data": {
      "text/plain": [
       "<matplotlib.collections.PolyCollection at 0x11b5dee50>"
      ]
     },
     "execution_count": 74,
     "metadata": {},
     "output_type": "execute_result"
    },
    {
     "data": {
      "image/png": "[encoded data removed]",
      "text/plain": [
       "<matplotlib.figure.Figure at 0x1191bb910>"
      ]
     },
     "metadata": {},
     "output_type": "display_data"
    }
   ],
   "source": [
    "k = 4\n",
    "pl.pcolor(xc[NO2:-NO2,NO2:-NO2,k],yc[NO2:-NO2,NO2:-NO2,k],\n",
    "                            vx[NO2:-NO2,NO2:-NO2,k])"
   ]
  },
  {
   "cell_type": "code",
   "execution_count": 67,
   "metadata": {
    "collapsed": false
   },
   "outputs": [],
   "source": [
    "    # Apply Boundary Conditions to bulk\n",
    "    MHDpy.Boundaries(rho,p,vx,vy,vz,bi,bj,bk,NO,\n",
    "                    xtype=xbctype,ytype=ybctype,ztype=zbctype)  \n",
    "                                        \n",
    "    # calculate bx, by, bz at cell center, 2nd order accurate,    \n",
    "    # bi,bj,bk are filled with ghost cells, so doing the whole grid here\n",
    "    bx = (bi[1:,:,:] + bi[:-1,:,:])/2.\n",
    "    by = (bj[:,1:,:] + bj[:,:-1,:])/2.\n",
    "    bz = (bk[:,:,1:] + bk[:,:,:-1])/2.  "
   ]
  },
  {
   "cell_type": "code",
   "execution_count": 86,
   "metadata": {
    "collapsed": false
   },
   "outputs": [
    {
     "data": {
      "image/png": "[encoded data removed]",
      "text/plain": [
       "<matplotlib.figure.Figure at 0x11cf68150>"
      ]
     },
     "metadata": {},
     "output_type": "display_data"
    }
   ],
   "source": [
    "        k=4\n",
    "        golden_mean = (n.sqrt(5)-1.0)/2.0\n",
    "        figwidth = 12\n",
    "        figheight = 8\n",
    "        fig,ax=pl.subplots(nrows=3,ncols=2,figsize=(figwidth,figheight),sharex=True,sharey=True)\n",
    "        \n",
    "        levels = n.linspace(0,2,12)\n",
    "        cf0 = ax[0,0].pcolor(xc[NO2:-NO2,NO2:-NO2,k],yc[NO2:-NO2,NO2:-NO2,k],\n",
    "                            rho[NO2:-NO2,NO2:-NO2,k],vmin=0,vmax=4,cmap=pl.get_cmap('viridis'))\n",
    "        divider0 = make_axes_locatable(ax[0,0])\n",
    "        cax0 = divider0.append_axes(\"right\", size=\"10%\", pad=0.05)\n",
    "        cbar0 = pl.colorbar(cf0,cax=cax0)\n",
    "        ax[0,0].set_title(r'$\\rho$')\n",
    "        ax[0,0].set_xlim((0,25))\n",
    "        ax[0,0].set_ylim((-6,6))\n",
    "        \n",
    "        levels = n.linspace(-1.0,1.0,13)\n",
    "        cf1 = ax[0,1].pcolor(xc[NO2:-NO2,NO2:-NO2,k],yc[NO2:-NO2,NO2:-NO2,k],\n",
    "                            vx[NO2:-NO2,NO2:-NO2,k],vmin=-2.5e-4,vmax=2.5e-4,cmap=pl.get_cmap('coolwarm'))\n",
    "        divider1 = make_axes_locatable(ax[0,1])\n",
    "        cax1 = divider1.append_axes(\"right\", size=\"10%\", pad=0.05)\n",
    "        cbar1 = pl.colorbar(cf1,cax=cax1)\n",
    "        ax[0,1].set_title(r'$V_X$')\n",
    "        \n",
    "        levels = n.linspace(0.0,2.0,13)\n",
    "        cf2 = ax[1,0].pcolor(xc[NO2:-NO2,NO2:-NO2,k],yc[NO2:-NO2,NO2:-NO2,k],\n",
    "                            p[NO2:-NO2,NO2:-NO2,k],vmin=0,vmax=0.6,cmap=pl.get_cmap('plasma'))\n",
    "        divider2 = make_axes_locatable(ax[1,0])\n",
    "        cax2 = divider2.append_axes(\"right\", size=\"10%\", pad=0.05)\n",
    "        cbar2 = pl.colorbar(cf2,cax=cax2)\n",
    "        ax[1,0].set_title('P')\n",
    "        \n",
    "        levels = n.linspace(-0.15,0.15,13)\n",
    "        cf3 = ax[1,1].pcolor(x[NO2:-NO2,NO2:-NO2,k],y[NO2:-NO2,NO2:-NO2,k],\n",
    "                            Ek[:,:,0],vmin=-1.0e-3,vmax=1.0e-3,cmap=pl.get_cmap('RdBu'))\n",
    "        divider3 = make_axes_locatable(ax[1,1])\n",
    "        cax3 = divider3.append_axes(\"right\", size=\"10%\", pad=0.05)\n",
    "        cbar3 = pl.colorbar(cf3,cax=cax3)\n",
    "        ax[1,1].set_title(r'$E_K$')\n",
    "        \n",
    "        \n",
    "        levels = n.linspace(-1.0,1.0,13)\n",
    "        cf4 = ax[2,0].pcolor(xc[NO2:-NO2,NO2:-NO2,k],yc[NO2:-NO2,NO2:-NO2,k],\n",
    "                            bz[NO2:-NO2,NO2:-NO2,k],vmin=-0.1,vmax=0.1,cmap=pl.get_cmap('seismic'))\n",
    "        divider4 = make_axes_locatable(ax[2,0])\n",
    "        cax4 = divider4.append_axes(\"right\", size=\"10%\", pad=0.05)\n",
    "        cbar4 = pl.colorbar(cf4,cax=cax4)\n",
    "        ax[2,0].set_title(r'$B_Z$')\n",
    "        \n",
    "        levels = n.linspace(-1.0e-13,1.0e-13,13)\n",
    "        cf5 = ax[2,1].pcolor(xc[NO2:-NO2,NO2:-NO2,k],yc[NO2:-NO2,NO2:-NO2,k],\n",
    "                            Jzc[NO2:-NO2,NO2:-NO2,k],vmin=-1.5,vmax=1.5,cmap=pl.get_cmap('PuOr'))\n",
    "        divider5 = make_axes_locatable(ax[2,1])\n",
    "        cax5 = divider5.append_axes(\"right\", size=\"10%\", pad=0.05)\n",
    "        cbar5 = pl.colorbar(cf5,cax=cax5)\n",
    "        ax[2,1].set_title(r'$J_Z$')\n",
    "                \n",
    "       \n",
    "        fig.suptitle('Simulation Time = %f' % Time,fontsize='x-large')\n",
    "        pl.tight_layout()\n",
    "        saveFigName = os.path.join(imagedir,'%s-%06d.png'%(imagebase,imageNum))"
   ]
  },
  {
   "cell_type": "code",
   "execution_count": null,
   "metadata": {
    "collapsed": true
   },
   "outputs": [],
   "source": [
    "cm = pl.colormaps"
   ]
  }
 ],
 "metadata": {
  "kernelspec": {
   "display_name": "Python 2",
   "language": "python",
   "name": "python2"
  },
  "language_info": {
   "codemirror_mode": {
    "name": "ipython",
    "version": 2
   },
   "file_extension": ".py",
   "mimetype": "text/x-python",
   "name": "python",
   "nbconvert_exporter": "python",
   "pygments_lexer": "ipython2",
   "version": "2.7.11"
  }
 },
 "nbformat": 4,
 "nbformat_minor": 0
}
