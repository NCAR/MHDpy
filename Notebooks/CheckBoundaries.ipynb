{
 "metadata": {
  "name": "",
  "signature": "sha256:5240d6090293fe14aaca57b1f67763d7193b2c6ed31461e04e41080d6c61f2fe"
 },
 "nbformat": 3,
 "nbformat_minor": 0,
 "worksheets": [
  {
   "cells": [
    {
     "cell_type": "code",
     "collapsed": false,
     "input": [
      "import numpy as n\n",
      "import pylab as pl\n",
      "import os,timeit,driver"
     ],
     "language": "python",
     "metadata": {},
     "outputs": [],
     "prompt_number": 1
    },
    {
     "cell_type": "code",
     "collapsed": false,
     "input": [
      "%pylab inline"
     ],
     "language": "python",
     "metadata": {},
     "outputs": [
      {
       "output_type": "stream",
       "stream": "stdout",
       "text": [
        "Populating the interactive namespace from numpy and matplotlib\n"
       ]
      }
     ],
     "prompt_number": 2
    },
    {
     "cell_type": "code",
     "collapsed": false,
     "input": [
      "os.chdir('/Users/wiltbemj/Dropbox/Python/MHDpy-pythonindex//')\n",
      "import MHDpy"
     ],
     "language": "python",
     "metadata": {},
     "outputs": [],
     "prompt_number": 3
    },
    {
     "cell_type": "code",
     "collapsed": false,
     "input": [
      "# Model Parameters\n",
      "NO = 8                # - default 8th order, hard coded for PDM\n",
      "NO2 = NO/2            # num of ghost cells on each end\n",
      "gamma=2.             # ratio of the specific heat, 5/3 for ideal gas\n",
      "CFL = 0.3             # Courant number\n",
      "PDMB= 4.0             # PDM beta parameter for controlling numerical diffusion\n",
      "limiter_type = 'PDM'  # 'PDM' - 8th order with PDM limiter\n",
      "                      # 'TVD' - 2nd order with Van-Leer limiter\n",
      "                      # '8th' - 8th order without limiter\n",
      "                      # 'WENO'- 5th order with WENO reconstruction \n",
      "                      #         (not tested in the getEk algorithm yet)\n",
      "                      # 'PPM' - 3rd order PPM method (not tested yet)\n",
      "imagedir = '/Users/wiltbemj/Downloads/figs' # directory to store image files\n",
      "imagebase = 'bw' # base name of image files.\n",
      "# Grid information- nx,ny,nz are # of ACTIVE cells (no ghost cell included)\n",
      "# The generated grid are cell corners, the metric function will calculate\n",
      "# cell centers, faces and other grid information\n",
      "nx = 128\n",
      "ny = 1\n",
      "nz = 1\n",
      "(x,y,z)=MHDpy.Generate_Grid_3D_uniform(nx,ny,nz,NO) # This function generate a \n",
      "                                               # uniformly distributed active \n",
      "                                               # grid between -1 and 1 with \n",
      "                                               # nx, ny nz active cells in each \n",
      "                                               # direction"
     ],
     "language": "python",
     "metadata": {},
     "outputs": [],
     "prompt_number": 4
    },
    {
     "cell_type": "code",
     "collapsed": false,
     "input": [
      "# Calculate grids and indices\n",
      "# xc,yc,zc: cell centers\n",
      "# xi,yi,zi: i-face cetners where bi is defined\n",
      "# xj,yj,zj: j-face cetners where bj is defined\n",
      "# xk,yk,zk: k-face cetners where bk is defined\n",
      "# I,J,K: cell center indices including ghost cells\n",
      "# ic_act,jc_act,kc_act: indices for active cell centers\n",
      "# if_act,jf_act,kf_act: indices for active face centers\n",
      "# \"lb\"s are left boundary indices, \"rb\"s are right boundary indices,\n",
      "(xc,yc,zc,xi,yi,zi,xj,yj,zj,xk,yk,zk,dx,dy,dz,I,J,K,\n",
      "ic_act,jc_act,kc_act,if_act,jf_act,kf_act,\n",
      "ic_lb,jc_lb,kc_lb,if_lb,jf_lb,kf_lb,\n",
      "ic_rb,jc_rb,kc_rb,if_rb,jf_rb,kf_rb)=MHDpy.Metrics(x,y,z,NO)\n",
      "(nx_total,ny_total,nz_total)=x.shape           # with NO/2 ghost cells, \n",
      "                                               # nx_total, ny_total, nz_total \n",
      "                                               # are total num of cell corners\n",
      "x = (x+0.0)/1.0 # leave the grid on [-1 1]\n",
      "y = (y+0.0)/1.0 # y doesn't matter...\n",
      "z = (z+0.0)/1.0 # z doesn't matter..."
     ],
     "language": "python",
     "metadata": {},
     "outputs": [
      {
       "output_type": "stream",
       "stream": "stdout",
       "text": [
        "Python Index Version\n"
       ]
      }
     ],
     "prompt_number": 6
    },
    {
     "cell_type": "code",
     "collapsed": false,
     "input": [
      "driver.writeObj([xc,yc,zc,xi,yi,zi],'/Users/wiltbemj/Downloads/grid-pi.pkl')"
     ],
     "language": "python",
     "metadata": {},
     "outputs": [],
     "prompt_number": 7
    },
    {
     "cell_type": "code",
     "collapsed": false,
     "input": [
      "# Define premitive Hydrodynamic variables at cell center\n",
      "rho = n.zeros(xc.shape)\n",
      "vx = n.zeros(xc.shape)\n",
      "vy = n.zeros(xc.shape)\n",
      "vz = n.zeros(xc.shape)\n",
      "p = n.zeros(xc.shape)\n",
      "\n",
      "# Define Magnetic fields at cell faces\n",
      "bi = n.zeros(xi.shape)\n",
      "bj = n.zeros(xj.shape)\n",
      "bk = n.zeros(xk.shape)\n",
      "\n",
      "# Define Electric fields at cell edges\n",
      "Ei = n.zeros((nx_total-1,ny_total,nz_total))\n",
      "Ej = n.zeros((nx_total,ny_total-1,nz_total))\n",
      "Ek = n.zeros((nx_total,ny_total,nz_total-1))\n",
      "\n",
      "Time = 0.0"
     ],
     "language": "python",
     "metadata": {},
     "outputs": [],
     "prompt_number": 36
    },
    {
     "cell_type": "code",
     "collapsed": false,
     "input": [
      "xbctype = 'OUT'\n",
      "ybctype = 'OUT'\n",
      "zbctype = 'OUT'"
     ],
     "language": "python",
     "metadata": {},
     "outputs": [],
     "prompt_number": 11
    },
    {
     "cell_type": "code",
     "collapsed": false,
     "input": [
      "rho[ic_act,jc_act,kc_act] =  n.arange(nx)[:,None,None]"
     ],
     "language": "python",
     "metadata": {},
     "outputs": [],
     "prompt_number": 37
    },
    {
     "cell_type": "code",
     "collapsed": false,
     "input": [
      "rhoPI = rho.copy()"
     ],
     "language": "python",
     "metadata": {},
     "outputs": [],
     "prompt_number": 38
    },
    {
     "cell_type": "markdown",
     "metadata": {},
     "source": [
      "Tests for outflow boundary conditions"
     ]
    },
    {
     "cell_type": "code",
     "collapsed": false,
     "input": [
      "rho[ic_lb,:,:] =rho[NO-ic_lb-1,:,:]\n",
      "rhoPI[:NO2,:,:] = rhoPI[NO-1:NO2-1:-1,:,:]\n",
      "n.count_nonzero(rho-rhoPI)"
     ],
     "language": "python",
     "metadata": {},
     "outputs": [
      {
       "metadata": {},
       "output_type": "pyout",
       "prompt_number": 69,
       "text": [
        "0"
       ]
      }
     ],
     "prompt_number": 69
    },
    {
     "cell_type": "code",
     "collapsed": false,
     "input": [
      "rho[ic_rb,:,:] =rho[2*nx+NO-ic_rb-1,:,:]\n",
      "rhoPI[-NO2:,:,:] = rhoPI[-NO2-1:-NO-1:-1,:,:]\n",
      "n.count_nonzero(rho-rhoPI)"
     ],
     "language": "python",
     "metadata": {},
     "outputs": [
      {
       "metadata": {},
       "output_type": "pyout",
       "prompt_number": 83,
       "text": [
        "0"
       ]
      }
     ],
     "prompt_number": 83
    },
    {
     "cell_type": "code",
     "collapsed": false,
     "input": [
      "bi[if_act,jc_act,kc_act] = n.arange(nx+1)[:,None,None]\n",
      "biPI = bi.copy()"
     ],
     "language": "python",
     "metadata": {},
     "outputs": [],
     "prompt_number": 72
    },
    {
     "cell_type": "code",
     "collapsed": false,
     "input": [
      "bi[if_lb,:,:] =bi[NO-if_lb-1,:,:]\n",
      "biPI[:NO2,:,:] = biPI[NO-1:NO2-1:-1,:,:]\n",
      "n.count_nonzero(bi-biPI)"
     ],
     "language": "python",
     "metadata": {},
     "outputs": [
      {
       "metadata": {},
       "output_type": "pyout",
       "prompt_number": 84,
       "text": [
        "0"
       ]
      }
     ],
     "prompt_number": 84
    },
    {
     "cell_type": "code",
     "collapsed": false,
     "input": [
      "bi[if_rb,:,:] =bi[2*nx+NO-if_rb+1,:,:]\n",
      "biPI[-NO2:,:,:] = biPI[-NO2-1:-NO-1:-1,:,:]\n",
      "n.count_nonzero(rho-rhoPI)"
     ],
     "language": "python",
     "metadata": {},
     "outputs": [
      {
       "metadata": {},
       "output_type": "pyout",
       "prompt_number": 85,
       "text": [
        "0"
       ]
      }
     ],
     "prompt_number": 85
    },
    {
     "cell_type": "markdown",
     "metadata": {},
     "source": [
      "Tests for peroidic boundary conditions"
     ]
    },
    {
     "cell_type": "code",
     "collapsed": false,
     "input": [
      "rho[ic_rb,:,:] = rho[ic_act[0:NO2],:,:]\n",
      "rhoPI[-NO2:,:,:] = rhoPI[NO2:NO,:,:]\n",
      "n.count_nonzero(rho-rhoPI)"
     ],
     "language": "python",
     "metadata": {},
     "outputs": [
      {
       "metadata": {},
       "output_type": "pyout",
       "prompt_number": 88,
       "text": [
        "0"
       ]
      }
     ],
     "prompt_number": 88
    },
    {
     "cell_type": "code",
     "collapsed": false,
     "input": [
      "bi[if_lb,:,:]  = bi[if_act[-NO2:],:,:]\n",
      "biPI[:NO2,:,:]  = biPI[-NO:-NO2,:,:]\n",
      "n.count_nonzero(bi-biPI)"
     ],
     "language": "python",
     "metadata": {},
     "outputs": [
      {
       "metadata": {},
       "output_type": "pyout",
       "prompt_number": 92,
       "text": [
        "0"
       ]
      }
     ],
     "prompt_number": 92
    },
    {
     "cell_type": "code",
     "collapsed": false,
     "input": [
      "bi[if_lb,jc_act,kc_act]"
     ],
     "language": "python",
     "metadata": {},
     "outputs": [
      {
       "metadata": {},
       "output_type": "pyout",
       "prompt_number": 74,
       "text": [
        "array([[[ 3.]],\n",
        "\n",
        "       [[ 2.]],\n",
        "\n",
        "       [[ 1.]],\n",
        "\n",
        "       [[ 0.]]])"
       ]
      }
     ],
     "prompt_number": 74
    },
    {
     "cell_type": "code",
     "collapsed": false,
     "input": [
      "biPI[ic_lb,jc_act,kc_act]"
     ],
     "language": "python",
     "metadata": {},
     "outputs": [
      {
       "metadata": {},
       "output_type": "pyout",
       "prompt_number": 75,
       "text": [
        "array([[[ 3.]],\n",
        "\n",
        "       [[ 2.]],\n",
        "\n",
        "       [[ 1.]],\n",
        "\n",
        "       [[ 0.]]])"
       ]
      }
     ],
     "prompt_number": 75
    },
    {
     "cell_type": "code",
     "collapsed": false,
     "input": [
      "rho[NO-ic_lb-1,:,:].shape"
     ],
     "language": "python",
     "metadata": {},
     "outputs": [
      {
       "metadata": {},
       "output_type": "pyout",
       "prompt_number": 52,
       "text": [
        "(4, 1, 1, 9, 9)"
       ]
      }
     ],
     "prompt_number": 52
    },
    {
     "cell_type": "code",
     "collapsed": false,
     "input": [
      "rhoPI[NO-NO2-1,:,:]"
     ],
     "language": "python",
     "metadata": {},
     "outputs": [
      {
       "metadata": {},
       "output_type": "pyout",
       "prompt_number": 49,
       "text": [
        "array([[ 0.,  0.,  0.,  0.,  0.,  0.,  0.,  0.,  0.],\n",
        "       [ 0.,  0.,  0.,  0.,  0.,  0.,  0.,  0.,  0.],\n",
        "       [ 0.,  0.,  0.,  0.,  0.,  0.,  0.,  0.,  0.],\n",
        "       [ 0.,  0.,  0.,  0.,  0.,  0.,  0.,  0.,  0.],\n",
        "       [ 0.,  0.,  0.,  0.,  0.,  0.,  0.,  0.,  0.],\n",
        "       [ 0.,  0.,  0.,  0.,  0.,  0.,  0.,  0.,  0.],\n",
        "       [ 0.,  0.,  0.,  0.,  0.,  0.,  0.,  0.,  0.],\n",
        "       [ 0.,  0.,  0.,  0.,  0.,  0.,  0.,  0.,  0.],\n",
        "       [ 0.,  0.,  0.,  0.,  0.,  0.,  0.,  0.,  0.]])"
       ]
      }
     ],
     "prompt_number": 49
    },
    {
     "cell_type": "code",
     "collapsed": false,
     "input": [
      "rhoPI[ic_rb,jc_act,kc_act]"
     ],
     "language": "python",
     "metadata": {},
     "outputs": [
      {
       "metadata": {},
       "output_type": "pyout",
       "prompt_number": 89,
       "text": [
        "array([[[ 0.]],\n",
        "\n",
        "       [[ 1.]],\n",
        "\n",
        "       [[ 2.]],\n",
        "\n",
        "       [[ 3.]]])"
       ]
      }
     ],
     "prompt_number": 89
    },
    {
     "cell_type": "code",
     "collapsed": false,
     "input": [
      "rho[:,jc_act,kc_act]"
     ],
     "language": "python",
     "metadata": {},
     "outputs": [
      {
       "metadata": {},
       "output_type": "pyout",
       "prompt_number": 91,
       "text": [
        "array([[[[   3.]]],\n",
        "\n",
        "\n",
        "       [[[   2.]]],\n",
        "\n",
        "\n",
        "       [[[   1.]]],\n",
        "\n",
        "\n",
        "       [[[   0.]]],\n",
        "\n",
        "\n",
        "       [[[   0.]]],\n",
        "\n",
        "\n",
        "       [[[   1.]]],\n",
        "\n",
        "\n",
        "       [[[   2.]]],\n",
        "\n",
        "\n",
        "       [[[   3.]]],\n",
        "\n",
        "\n",
        "       [[[   4.]]],\n",
        "\n",
        "\n",
        "       [[[   5.]]],\n",
        "\n",
        "\n",
        "       [[[   6.]]],\n",
        "\n",
        "\n",
        "       [[[   7.]]],\n",
        "\n",
        "\n",
        "       [[[   8.]]],\n",
        "\n",
        "\n",
        "       [[[   9.]]],\n",
        "\n",
        "\n",
        "       [[[  10.]]],\n",
        "\n",
        "\n",
        "       [[[  11.]]],\n",
        "\n",
        "\n",
        "       [[[  12.]]],\n",
        "\n",
        "\n",
        "       [[[  13.]]],\n",
        "\n",
        "\n",
        "       [[[  14.]]],\n",
        "\n",
        "\n",
        "       [[[  15.]]],\n",
        "\n",
        "\n",
        "       [[[  16.]]],\n",
        "\n",
        "\n",
        "       [[[  17.]]],\n",
        "\n",
        "\n",
        "       [[[  18.]]],\n",
        "\n",
        "\n",
        "       [[[  19.]]],\n",
        "\n",
        "\n",
        "       [[[  20.]]],\n",
        "\n",
        "\n",
        "       [[[  21.]]],\n",
        "\n",
        "\n",
        "       [[[  22.]]],\n",
        "\n",
        "\n",
        "       [[[  23.]]],\n",
        "\n",
        "\n",
        "       [[[  24.]]],\n",
        "\n",
        "\n",
        "       [[[  25.]]],\n",
        "\n",
        "\n",
        "       [[[  26.]]],\n",
        "\n",
        "\n",
        "       [[[  27.]]],\n",
        "\n",
        "\n",
        "       [[[  28.]]],\n",
        "\n",
        "\n",
        "       [[[  29.]]],\n",
        "\n",
        "\n",
        "       [[[  30.]]],\n",
        "\n",
        "\n",
        "       [[[  31.]]],\n",
        "\n",
        "\n",
        "       [[[  32.]]],\n",
        "\n",
        "\n",
        "       [[[  33.]]],\n",
        "\n",
        "\n",
        "       [[[  34.]]],\n",
        "\n",
        "\n",
        "       [[[  35.]]],\n",
        "\n",
        "\n",
        "       [[[  36.]]],\n",
        "\n",
        "\n",
        "       [[[  37.]]],\n",
        "\n",
        "\n",
        "       [[[  38.]]],\n",
        "\n",
        "\n",
        "       [[[  39.]]],\n",
        "\n",
        "\n",
        "       [[[  40.]]],\n",
        "\n",
        "\n",
        "       [[[  41.]]],\n",
        "\n",
        "\n",
        "       [[[  42.]]],\n",
        "\n",
        "\n",
        "       [[[  43.]]],\n",
        "\n",
        "\n",
        "       [[[  44.]]],\n",
        "\n",
        "\n",
        "       [[[  45.]]],\n",
        "\n",
        "\n",
        "       [[[  46.]]],\n",
        "\n",
        "\n",
        "       [[[  47.]]],\n",
        "\n",
        "\n",
        "       [[[  48.]]],\n",
        "\n",
        "\n",
        "       [[[  49.]]],\n",
        "\n",
        "\n",
        "       [[[  50.]]],\n",
        "\n",
        "\n",
        "       [[[  51.]]],\n",
        "\n",
        "\n",
        "       [[[  52.]]],\n",
        "\n",
        "\n",
        "       [[[  53.]]],\n",
        "\n",
        "\n",
        "       [[[  54.]]],\n",
        "\n",
        "\n",
        "       [[[  55.]]],\n",
        "\n",
        "\n",
        "       [[[  56.]]],\n",
        "\n",
        "\n",
        "       [[[  57.]]],\n",
        "\n",
        "\n",
        "       [[[  58.]]],\n",
        "\n",
        "\n",
        "       [[[  59.]]],\n",
        "\n",
        "\n",
        "       [[[  60.]]],\n",
        "\n",
        "\n",
        "       [[[  61.]]],\n",
        "\n",
        "\n",
        "       [[[  62.]]],\n",
        "\n",
        "\n",
        "       [[[  63.]]],\n",
        "\n",
        "\n",
        "       [[[  64.]]],\n",
        "\n",
        "\n",
        "       [[[  65.]]],\n",
        "\n",
        "\n",
        "       [[[  66.]]],\n",
        "\n",
        "\n",
        "       [[[  67.]]],\n",
        "\n",
        "\n",
        "       [[[  68.]]],\n",
        "\n",
        "\n",
        "       [[[  69.]]],\n",
        "\n",
        "\n",
        "       [[[  70.]]],\n",
        "\n",
        "\n",
        "       [[[  71.]]],\n",
        "\n",
        "\n",
        "       [[[  72.]]],\n",
        "\n",
        "\n",
        "       [[[  73.]]],\n",
        "\n",
        "\n",
        "       [[[  74.]]],\n",
        "\n",
        "\n",
        "       [[[  75.]]],\n",
        "\n",
        "\n",
        "       [[[  76.]]],\n",
        "\n",
        "\n",
        "       [[[  77.]]],\n",
        "\n",
        "\n",
        "       [[[  78.]]],\n",
        "\n",
        "\n",
        "       [[[  79.]]],\n",
        "\n",
        "\n",
        "       [[[  80.]]],\n",
        "\n",
        "\n",
        "       [[[  81.]]],\n",
        "\n",
        "\n",
        "       [[[  82.]]],\n",
        "\n",
        "\n",
        "       [[[  83.]]],\n",
        "\n",
        "\n",
        "       [[[  84.]]],\n",
        "\n",
        "\n",
        "       [[[  85.]]],\n",
        "\n",
        "\n",
        "       [[[  86.]]],\n",
        "\n",
        "\n",
        "       [[[  87.]]],\n",
        "\n",
        "\n",
        "       [[[  88.]]],\n",
        "\n",
        "\n",
        "       [[[  89.]]],\n",
        "\n",
        "\n",
        "       [[[  90.]]],\n",
        "\n",
        "\n",
        "       [[[  91.]]],\n",
        "\n",
        "\n",
        "       [[[  92.]]],\n",
        "\n",
        "\n",
        "       [[[  93.]]],\n",
        "\n",
        "\n",
        "       [[[  94.]]],\n",
        "\n",
        "\n",
        "       [[[  95.]]],\n",
        "\n",
        "\n",
        "       [[[  96.]]],\n",
        "\n",
        "\n",
        "       [[[  97.]]],\n",
        "\n",
        "\n",
        "       [[[  98.]]],\n",
        "\n",
        "\n",
        "       [[[  99.]]],\n",
        "\n",
        "\n",
        "       [[[ 100.]]],\n",
        "\n",
        "\n",
        "       [[[ 101.]]],\n",
        "\n",
        "\n",
        "       [[[ 102.]]],\n",
        "\n",
        "\n",
        "       [[[ 103.]]],\n",
        "\n",
        "\n",
        "       [[[ 104.]]],\n",
        "\n",
        "\n",
        "       [[[ 105.]]],\n",
        "\n",
        "\n",
        "       [[[ 106.]]],\n",
        "\n",
        "\n",
        "       [[[ 107.]]],\n",
        "\n",
        "\n",
        "       [[[ 108.]]],\n",
        "\n",
        "\n",
        "       [[[ 109.]]],\n",
        "\n",
        "\n",
        "       [[[ 110.]]],\n",
        "\n",
        "\n",
        "       [[[ 111.]]],\n",
        "\n",
        "\n",
        "       [[[ 112.]]],\n",
        "\n",
        "\n",
        "       [[[ 113.]]],\n",
        "\n",
        "\n",
        "       [[[ 114.]]],\n",
        "\n",
        "\n",
        "       [[[ 115.]]],\n",
        "\n",
        "\n",
        "       [[[ 116.]]],\n",
        "\n",
        "\n",
        "       [[[ 117.]]],\n",
        "\n",
        "\n",
        "       [[[ 118.]]],\n",
        "\n",
        "\n",
        "       [[[ 119.]]],\n",
        "\n",
        "\n",
        "       [[[ 120.]]],\n",
        "\n",
        "\n",
        "       [[[ 121.]]],\n",
        "\n",
        "\n",
        "       [[[ 122.]]],\n",
        "\n",
        "\n",
        "       [[[ 123.]]],\n",
        "\n",
        "\n",
        "       [[[ 124.]]],\n",
        "\n",
        "\n",
        "       [[[ 125.]]],\n",
        "\n",
        "\n",
        "       [[[ 126.]]],\n",
        "\n",
        "\n",
        "       [[[ 127.]]],\n",
        "\n",
        "\n",
        "       [[[   0.]]],\n",
        "\n",
        "\n",
        "       [[[   1.]]],\n",
        "\n",
        "\n",
        "       [[[   2.]]],\n",
        "\n",
        "\n",
        "       [[[   3.]]]])"
       ]
      }
     ],
     "prompt_number": 91
    },
    {
     "cell_type": "code",
     "collapsed": false,
     "input": [
      "rhoPI[:NO2,:,:]"
     ],
     "language": "python",
     "metadata": {},
     "outputs": [
      {
       "metadata": {},
       "output_type": "pyout",
       "prompt_number": 53,
       "text": [
        "(4, 9, 9)"
       ]
      }
     ],
     "prompt_number": 53
    },
    {
     "cell_type": "code",
     "collapsed": false,
     "input": [
      "NO2"
     ],
     "language": "python",
     "metadata": {},
     "outputs": [
      {
       "metadata": {},
       "output_type": "pyout",
       "prompt_number": 56,
       "text": [
        "4"
       ]
      }
     ],
     "prompt_number": 56
    },
    {
     "cell_type": "code",
     "collapsed": false,
     "input": [
      "xc.shape"
     ],
     "language": "python",
     "metadata": {},
     "outputs": [
      {
       "metadata": {},
       "output_type": "pyout",
       "prompt_number": 80,
       "text": [
        "(136, 9, 9)"
       ]
      }
     ],
     "prompt_number": 80
    },
    {
     "cell_type": "code",
     "collapsed": false,
     "input": [
      "rho[ic_rb,:,:] =rho[2*nx+NO-ic_rb-1,:,:]\n"
     ],
     "language": "python",
     "metadata": {},
     "outputs": [],
     "prompt_number": 81
    },
    {
     "cell_type": "code",
     "collapsed": false,
     "input": [
      "rho[ic_rb,jc_act,kc_act]"
     ],
     "language": "python",
     "metadata": {},
     "outputs": [
      {
       "metadata": {},
       "output_type": "pyout",
       "prompt_number": 82,
       "text": [
        "array([[[ 127.]],\n",
        "\n",
        "       [[ 126.]],\n",
        "\n",
        "       [[ 125.]],\n",
        "\n",
        "       [[ 124.]]])"
       ]
      }
     ],
     "prompt_number": 82
    },
    {
     "cell_type": "code",
     "collapsed": false,
     "input": [],
     "language": "python",
     "metadata": {},
     "outputs": []
    }
   ],
   "metadata": {}
  }
 ]
}