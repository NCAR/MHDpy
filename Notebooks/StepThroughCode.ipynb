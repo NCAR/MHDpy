{
 "metadata": {
  "name": "",
  "signature": "sha256:5e2aa41b6d6585817ee7fcf056ca1291d9d3fbcda28b97f26bca96f369e41151"
 },
 "nbformat": 3,
 "nbformat_minor": 0,
 "worksheets": [
  {
   "cells": [
    {
     "cell_type": "code",
     "collapsed": false,
     "input": [
      "import numpy as n\n",
      "import pylab as pl\n",
      "import os,timeit,driver"
     ],
     "language": "python",
     "metadata": {},
     "outputs": [],
     "prompt_number": 1
    },
    {
     "cell_type": "code",
     "collapsed": false,
     "input": [
      "%pylab inline"
     ],
     "language": "python",
     "metadata": {},
     "outputs": [
      {
       "output_type": "stream",
       "stream": "stdout",
       "text": [
        "Populating the interactive namespace from numpy and matplotlib\n"
       ]
      }
     ],
     "prompt_number": 2
    },
    {
     "cell_type": "code",
     "collapsed": false,
     "input": [
      "os.chdir('/Users/wiltbemj/Dropbox/Python/MHDpy-pythonindex/')\n",
      "import MHDpy"
     ],
     "language": "python",
     "metadata": {},
     "outputs": [],
     "prompt_number": 3
    },
    {
     "cell_type": "code",
     "collapsed": false,
     "input": [
      "# Model Parameters\n",
      "NO = 8                # - default 8th order, hard coded for PDM\n",
      "NO2 = NO/2            # num of ghost cells on each end\n",
      "gamma=2.             # ratio of the specific heat, 5/3 for ideal gas\n",
      "CFL = 0.3             # Courant number\n",
      "PDMB= 4.0             # PDM beta parameter for controlling numerical diffusion\n",
      "limiter_type = 'PDM'  # 'PDM' - 8th order with PDM limiter\n",
      "                      # 'TVD' - 2nd order with Van-Leer limiter\n",
      "                      # '8th' - 8th order without limiter\n",
      "                      # 'WENO'- 5th order with WENO reconstruction \n",
      "                      #         (not tested in the getEk algorithm yet)\n",
      "                      # 'PPM' - 3rd order PPM method (not tested yet)\n",
      "imagedir = '/Users/wiltbemj/Downloads/figs' # directory to store image files\n",
      "imagebase = 'bw' # base name of image files.\n",
      "\n"
     ],
     "language": "python",
     "metadata": {},
     "outputs": [],
     "prompt_number": 4
    },
    {
     "cell_type": "code",
     "collapsed": false,
     "input": [
      "# Grid information- nx,ny,nz are # of ACTIVE cells (no ghost cell included)\n",
      "# The generated grid are cell corners, the metric function will calculate\n",
      "# cell centers, faces and other grid information\n",
      "nx = 128\n",
      "ny = 128\n",
      "nz = 1\n",
      "(x,y,z)=MHDpy.Generate_Grid_3D_uniform(nx,ny,nz,NO) # This function generate a \n",
      "                                               # uniformly distributed active \n",
      "                                               # grid between -1 and 1 with \n",
      "                                               # nx, ny nz active cells in each \n",
      "                                               # direction"
     ],
     "language": "python",
     "metadata": {},
     "outputs": [],
     "prompt_number": 5
    },
    {
     "cell_type": "code",
     "collapsed": false,
     "input": [
      "# Grid information- nx,ny,nz are # of ACTIVE cells (no ghost cell included)\n",
      "# The generated grid are cell corners, the metric function will calculate\n",
      "# cell centers, faces and other grid information\n",
      "nx = 128\n",
      "ny = 1\n",
      "nz = 1\n",
      "(x,y,z)=MHDpy.Generate_Grid_3D_uniform(nx,ny,nz,NO) # This function generate a \n",
      "                                               # uniformly distributed active \n",
      "                                               # grid between -1 and 1 with \n",
      "                                               # nx, ny nz active cells in each \n",
      "                                               # direction"
     ],
     "language": "python",
     "metadata": {},
     "outputs": [],
     "prompt_number": 6
    },
    {
     "cell_type": "code",
     "collapsed": false,
     "input": [
      "# Calculate grids and indices\n",
      "# xc,yc,zc: cell centers\n",
      "# xi,yi,zi: i-face cetners where bi is defined\n",
      "# xj,yj,zj: j-face cetners where bj is defined\n",
      "# xk,yk,zk: k-face cetners where bk is defined\n",
      "# I,J,K: cell center indices including ghost cells\n",
      "# ic_act,jc_act,kc_act: indices for active cell centers\n",
      "# if_act,jf_act,kf_act: indices for active face centers\n",
      "# \"lb\"s are left boundary indices, \"rb\"s are right boundary indices,\n",
      "(xc,yc,zc,xi,yi,zi,xj,yj,zj,xk,yk,zk,dx,dy,dz,I,J,K,\n",
      "ic_act,jc_act,kc_act,if_act,jf_act,kf_act,\n",
      "ic_lb,jc_lb,kc_lb,if_lb,jf_lb,kf_lb,\n",
      "ic_rb,jc_rb,kc_rb,if_rb,jf_rb,kf_rb)=MHDpy.Metrics(x,y,z,NO)\n",
      "(nx_total,ny_total,nz_total)=x.shape           # with NO/2 ghost cells, \n",
      "                                               # nx_total, ny_total, nz_total \n",
      "                                               # are total num of cell corners\n",
      "\n"
     ],
     "language": "python",
     "metadata": {},
     "outputs": [
      {
       "output_type": "stream",
       "stream": "stdout",
       "text": [
        "Python Index Version\n"
       ]
      }
     ],
     "prompt_number": 6
    },
    {
     "cell_type": "code",
     "collapsed": false,
     "input": [
      "#BW\n",
      "x = (x+0.0)/1.0 # leave the grid on [-1 1]\n",
      "y = (y+0.0)/1.0 # y doesn't matter...\n",
      "z = (z+0.0)/1.0 # z doesn't matter..."
     ],
     "language": "python",
     "metadata": {},
     "outputs": [],
     "prompt_number": 21
    },
    {
     "cell_type": "code",
     "collapsed": false,
     "input": [
      "#OT\n",
      "x = (x+1.0)/2.0 # map the grid from [-1 1] to [-0.5 -.5]\n",
      "y = (y+1.0)/2.0 # map the grid from [-1 1] to [-0.5 -.5]\n",
      "z = (z+0.0)/1.0 # z doesn't matter..."
     ],
     "language": "python",
     "metadata": {},
     "outputs": [],
     "prompt_number": 7
    },
    {
     "cell_type": "code",
     "collapsed": false,
     "input": [
      "driver.writeObj([xc,yc,zc,xi,yi,zi],'/Users/wiltbemj/Downloads/grid-pi.pkl')"
     ],
     "language": "python",
     "metadata": {},
     "outputs": [],
     "prompt_number": 8
    },
    {
     "cell_type": "code",
     "collapsed": false,
     "input": [
      "# Define premitive Hydrodynamic variables at cell center\n",
      "rho = n.zeros(xc.shape)\n",
      "vx = n.zeros(xc.shape)\n",
      "vy = n.zeros(xc.shape)\n",
      "vz = n.zeros(xc.shape)\n",
      "p = n.zeros(xc.shape)\n",
      "\n",
      "# Define Magnetic fields at cell faces\n",
      "bi = n.zeros(xi.shape)\n",
      "bj = n.zeros(xj.shape)\n",
      "bk = n.zeros(xk.shape)\n",
      "\n",
      "# Define Electric fields at cell edges\n",
      "Ei = n.zeros((nx_total-1,ny_total,nz_total))\n",
      "Ej = n.zeros((nx_total,ny_total-1,nz_total))\n",
      "Ek = n.zeros((nx_total,ny_total,nz_total-1))\n",
      "\n",
      "Time = 0.0"
     ],
     "language": "python",
     "metadata": {},
     "outputs": [],
     "prompt_number": 9
    },
    {
     "cell_type": "code",
     "collapsed": false,
     "input": [
      "## 1-D Brio-Wu shock tube problem\n",
      "rho[xc<0.0] = 1.0\n",
      "rho[xc>0.0] = 0.125\n",
      "p[xc<0.0]   = 1.0\n",
      "p[xc>0.0]   = 0.1\n",
      "bi[:]  =  0.75\n",
      "bj[xj<0.0]  = 1.0\n",
      "bj[xj>0.0] = -1.0"
     ],
     "language": "python",
     "metadata": {},
     "outputs": [],
     "prompt_number": 23
    },
    {
     "cell_type": "code",
     "collapsed": false,
     "input": [
      "xbctype = 'EXP'\n",
      "ybctype = 'EXP'\n",
      "zbctype = 'EXP'"
     ],
     "language": "python",
     "metadata": {},
     "outputs": [],
     "prompt_number": 26
    },
    {
     "cell_type": "code",
     "collapsed": false,
     "input": [
      "# 2-D Orzag-Tang vortex\n",
      "rho = rho+25.0/(n.pi*36.0)\n",
      "p   = p+5.0/(n.pi*12.0)\n",
      "vx  = -n.sin(2.0*n.pi*yc)\n",
      "vy  =  n.sin(2.0*n.pi*xc)\n",
      "bi  = -1.0/n.sqrt(4.0*n.pi)*n.sin(2*n.pi*yi)\n",
      "bj  = 1.0/n.sqrt(4.0*n.pi)*n.sin(2*n.pi*2*xj)"
     ],
     "language": "python",
     "metadata": {},
     "outputs": [],
     "prompt_number": 10
    },
    {
     "cell_type": "code",
     "collapsed": false,
     "input": [
      "xbctype = 'PER'\n",
      "ybctype = 'PER'\n",
      "zbctype = 'EXP'"
     ],
     "language": "python",
     "metadata": {},
     "outputs": [],
     "prompt_number": 11
    },
    {
     "cell_type": "code",
     "collapsed": false,
     "input": [
      "MHDpy.Boundaries(rho,p,vx,vy,vz,bi,bj,bk,NO,\n",
      "                ic_act,jc_act,kc_act,\n",
      "                if_act,jf_act,kf_act,\n",
      "                ic_lb,ic_rb,jc_lb,jc_rb,kc_lb,kc_rb,\n",
      "                if_lb,if_rb,jf_lb,jf_rb,kf_lb,kf_rb,\n",
      "                xtype=xbctype,ytype=ybctype,ztype=zbctype)"
     ],
     "language": "python",
     "metadata": {},
     "outputs": [],
     "prompt_number": 12
    },
    {
     "cell_type": "code",
     "collapsed": false,
     "input": [
      "driver.writeObj([rho,p,vx,vy,vz,bi,bj,bk],\n",
      "                '/Users/wiltbemj/Downloads/bc-pi.pkl')"
     ],
     "language": "python",
     "metadata": {},
     "outputs": [],
     "prompt_number": 13
    },
    {
     "cell_type": "code",
     "collapsed": false,
     "input": [
      "bx = (bi[1:,:,:] + bi[:-1,:,:])/2.\n",
      "by = (bj[:,1:,:] + bj[:,:-1,:])/2.\n",
      "bz = (bk[:,:,1:] + bk[:,:,:-1])/2."
     ],
     "language": "python",
     "metadata": {},
     "outputs": [],
     "prompt_number": 14
    },
    {
     "cell_type": "code",
     "collapsed": false,
     "input": [
      "# Get conserved hydrodynamic variables\n",
      "(rho,rhovx,rhovy,rhovz,eng) = MHDpy.getConservedVariables(rho,vx,vy,vz,p,gamma)"
     ],
     "language": "python",
     "metadata": {},
     "outputs": [],
     "prompt_number": 15
    },
    {
     "cell_type": "code",
     "collapsed": false,
     "input": [
      "dt0 = MHDpy.getDT(rho,vx,vy,vz,bx,by,bz,p,gamma,dx,dy,dz,CFL)"
     ],
     "language": "python",
     "metadata": {},
     "outputs": [],
     "prompt_number": 16
    },
    {
     "cell_type": "code",
     "collapsed": false,
     "input": [
      "# Save the initial states for the first Adam-Bashforth time stepping\n",
      "rho_p = rho\n",
      "vx_p = vx\n",
      "vy_p = vy\n",
      "vz_p = vz\n",
      "p_p= p\n",
      "bx_p = bx\n",
      "by_p = by\n",
      "bz_p = bz\n",
      "\n",
      "bi_p = bi\n",
      "bj_p = bj\n",
      "bk_p = bk"
     ],
     "language": "python",
     "metadata": {},
     "outputs": [],
     "prompt_number": 17
    },
    {
     "cell_type": "code",
     "collapsed": false,
     "input": [
      "# MAIN LOOP\n",
      "# simulation Time information\n",
      "count = 0\n",
      "Nstep=2000\n",
      "Time = 0\n",
      "RealT=0\n",
      "step=0\n",
      "imageNum=0"
     ],
     "language": "python",
     "metadata": {},
     "outputs": [],
     "prompt_number": 18
    },
    {
     "cell_type": "code",
     "collapsed": false,
     "input": [
      "dt = MHDpy.getDT(rho,vx,vy,vz,bx,by,bz,p,gamma,dx,dy,dz,CFL)\n",
      "Time = Time + dt\n",
      "[rho,rhovx,rhovy,rhovz,eng] = MHDpy.getConservedVariables(rho,vx,vy,vz,\n",
      "                                                            p,gamma)\n",
      "\n",
      "# Step 1: get the half time step values\n",
      "rho_h = rho + dt/dt0/2*(rho-rho_p)\n",
      "vx_h = vx + dt/dt0/2*(vx-vx_p)\n",
      "vy_h = vy + dt/dt0/2*(vy-vy_p)\n",
      "vz_h = vz + dt/dt0/2*(vz-vz_p)\n",
      "p_h = p + dt/dt0/2*(p-p_p)\n",
      "bx_h = bx + dt/dt0/2*(bx-bx_p)\n",
      "by_h = by + dt/dt0/2*(by-by_p)\n",
      "bz_h = bz + dt/dt0/2*(bz-bz_p)\n",
      "bi_h = bi + dt/dt0/2*(bi-bi_p)\n",
      "bj_h = bj + dt/dt0/2*(bj-bj_p)\n",
      "bk_h = bk + dt/dt0/2*(bk-bk_p)  \n",
      "\n",
      "rho0 = rho\n",
      "rhovx0 = rhovx\n",
      "rhovy0 = rhovy\n",
      "rhovz0 = rhovz\n",
      "eng0 = eng\n",
      "\n",
      "# save the current state vector for next AB time stepping\n",
      "rho_p = rho\n",
      "vx_p = vx\n",
      "vy_p = vy\n",
      "vz_p = vz\n",
      "bx_p = bx\n",
      "by_p = by\n",
      "bz_p = bz\n",
      "bi_p = bi\n",
      "bj_p = bj\n",
      "bk_p = bk    \n",
      "p_p= p\n",
      "dt0 = dt "
     ],
     "language": "python",
     "metadata": {},
     "outputs": [],
     "prompt_number": 19
    },
    {
     "cell_type": "code",
     "collapsed": false,
     "input": [
      "driver.writeObj([rho,rhovx,rhovy,rhovz,eng],\n",
      "                '/Users/wiltbemj/Downloads/conserved-pi.pkl')"
     ],
     "language": "python",
     "metadata": {},
     "outputs": [],
     "prompt_number": 20
    },
    {
     "cell_type": "code",
     "collapsed": false,
     "input": [
      "vx_avg = MHDpy.center2corner(vx,I,J,K,ic_act,jc_act,kc_act,\n",
      "                                if_act,jf_act,kf_act,NO2,PDMB,'xy',limiter_type)\n",
      "vy_avg = MHDpy.center2corner(vy,I,J,K,ic_act,jc_act,kc_act,\n",
      "                                if_act,jf_act,kf_act,NO2,PDMB,'xy',limiter_type)\n"
     ],
     "language": "python",
     "metadata": {},
     "outputs": [],
     "prompt_number": 21
    },
    {
     "cell_type": "code",
     "collapsed": false,
     "input": [
      "    [bi_left, bi_right] = MHDpy.reconstruct_3D(bi,if_act,jf_act,kc_act,NO2,PDMB,\n",
      "                                        2,limiter_type)\n",
      "    [bj_left, bj_right] = MHDpy.reconstruct_3D(bj,if_act,jf_act,kc_act,NO2,PDMB, \n",
      "                                        1,limiter_type) "
     ],
     "language": "python",
     "metadata": {},
     "outputs": [],
     "prompt_number": 22
    },
    {
     "cell_type": "code",
     "collapsed": false,
     "input": [
      "    bi_upwind = (\n",
      "                    (1+n.sign(vy_avg))/2*bi_left[:-1,:,:-1] + \n",
      "                    (1-n.sign(vy_avg))/2*bi_right[:-1,:,:-1])\n",
      "    bj_upwind = (\n",
      "                    (1+n.sign(vx_avg))/2*bj_left[:,:-1,:-1] + \n",
      "                    (1-n.sign(vx_avg))/2*bj_right[:,:-1,:-1])\n",
      "    \n",
      "    # step - 4 compute v_avg cross b_upwind \n",
      "    Ek = -(vx_avg*bj_upwind - vy_avg*bi_upwind) # v_avg cross b_upwind"
     ],
     "language": "python",
     "metadata": {},
     "outputs": [],
     "prompt_number": 23
    },
    {
     "cell_type": "code",
     "collapsed": false,
     "input": [
      "            vx_interp_x = (\n",
      "                -3*vx[NO2-4:-NO2-4+1,:,NO2:-NO2]+\n",
      "                29*vx[NO2-3:-NO2-3+1,:,NO2:-NO2]-\n",
      "                139*vx[NO2-2:-NO2-2+1,:,NO2:-NO2]+\n",
      "                533*vx[NO2-1:-NO2-1+1,:,NO2:-NO2]+\n",
      "                533*vx[NO2:-NO2+1,:,NO2:-NO2]-\n",
      "                139*vx[NO2+1:-NO2+1+1,:,NO2:-NO2]+\n",
      "                29*vx[NO2+2:-NO2+2+1,:,NO2:-NO2]-\n",
      "                3*vx[NO2+3:,:,NO2:-NO2])/840\n",
      "            vx_interp = (\n",
      "                -3*vx_interp_x[:,NO2-4:-NO2-4+1,:]+\n",
      "                29*vx_interp_x[:,NO2-3:-NO2-3+1,:]-\n",
      "                139*vx_interp_x[:,NO2-2:-NO2-2+1,:]+\n",
      "                533*vx_interp_x[:,NO2-1:-NO2-1+1,:]+\n",
      "                533*vx_interp_x[:,NO2:-NO2+1,:]-\n",
      "                139*vx_interp_x[:,NO2+1:-NO2+1+1,:]+\n",
      "                29*vx_interp_x[:,NO2+2:-NO2+2+1,:]-\n",
      "                3*vx_interp_x[:,NO2+3:,:])/840\n",
      "            (vx_00_x,vx_10_x)=MHDpy.PDM2(\n",
      "                                    vx[NO2-2:-NO2-2+1,NO2-1:-NO2-1+1,NO2:-NO2],\n",
      "                                    vx[NO2-1:-NO2-1+1,NO2-1:-NO2-1+1,NO2:-NO2],\n",
      "                                    vx[NO2:-NO2+1    ,NO2-1:-NO2-1+1,NO2:-NO2],\n",
      "                                    vx[NO2+1:-NO2+1+1,NO2-1:-NO2-1+1,NO2:-NO2],\n",
      "                                    vx_interp,PDMB)"
     ],
     "language": "python",
     "metadata": {},
     "outputs": [],
     "prompt_number": 24
    },
    {
     "cell_type": "code",
     "collapsed": false,
     "input": [
      "driver.writeObj([vx,vx_interp_x,vx_interp,vx_00_x,vx_10_x],\n",
      "                '/Users/wiltbemj/Downloads/c2c-pi.pkl')"
     ],
     "language": "python",
     "metadata": {},
     "outputs": [],
     "prompt_number": 25
    },
    {
     "cell_type": "code",
     "collapsed": false,
     "input": [
      "# check if the electric field calculation is correct (and boundary cond)\n",
      "# calculate edge-centered electric field \n",
      "(Ei,Ej,Ek) = MHDpy.getEk(vx,vy,vz,rho,p,gamma,bi,bj,bk,bx,by,bz,\n",
      "                        I,J,K,ic_act,jc_act,kc_act,if_act,jf_act,kf_act,\n",
      "                        NO2,PDMB,limiter_type)\n",
      "# calculate cell-centered electric field: E = -vxB\n",
      "Ez = -(vx*by - vy*bx)"
     ],
     "language": "python",
     "metadata": {},
     "outputs": [],
     "prompt_number": 27
    },
    {
     "cell_type": "code",
     "collapsed": false,
     "input": [
      "driver.writeObj([vx_avg,vy_avg,bi_left,bi_right,bj_left,bj_right,bi_upwind,bj_upwind,Ek],\n",
      "                '/Users/wiltbemj/Downloads/Ekcalc-pi.pkl')"
     ],
     "language": "python",
     "metadata": {},
     "outputs": [],
     "prompt_number": 28
    },
    {
     "cell_type": "code",
     "collapsed": false,
     "input": [
      "x[NO2:-NO2,NO2:-NO2,NO2:-NO2].shape"
     ],
     "language": "python",
     "metadata": {},
     "outputs": [
      {
       "metadata": {},
       "output_type": "pyout",
       "prompt_number": 63,
       "text": [
        "(129, 129, 2)"
       ]
      }
     ],
     "prompt_number": 63
    },
    {
     "cell_type": "code",
     "collapsed": false,
     "input": [
      "fig,ax = pl.subplots(ncols=2,figsize=(16,8))\n",
      "ax[0].pcolor(n.squeeze(xc[NO2:-NO2,NO2:-NO2,NO2:-NO2]),\n",
      "             n.squeeze(yc[NO2:-NO2,NO2:-NO2,NO2:-NO2]),\n",
      "             n.squeeze(Ez[NO2:-NO2,NO2:-NO2,NO2:-NO2]))\n",
      "ax[0].set_title('Ez')\n",
      "ax[1].pcolor(n.squeeze(x[NO2:-NO2,NO2:-NO2,NO2:-NO2-1]),\n",
      "            n.squeeze(y[NO2:-NO2,NO2:-NO2,NO2:-NO2-1]),\n",
      "            n.squeeze(Ek))\n",
      "ax[1].set_title('Ek')\n",
      "pl.draw()"
     ],
     "language": "python",
     "metadata": {},
     "outputs": [
      {
       "metadata": {},
       "output_type": "display_data",
       "png": "[encoded data removed]",
       "text": [
        "<matplotlib.figure.Figure at 0x11633b2d0>"
       ]
      }
     ],
     "prompt_number": 64
    },
    {
     "cell_type": "code",
     "collapsed": false,
     "input": [
      "    # Step 3 Calculate fluid and magnetic flux/stresses\n",
      "    # a) Calculate fluid flux/stress in the x direction\n",
      "    # # reconstruct cell centered primitive variables to cell faces\n",
      "    (rho_left, rho_right) = MHDpy.reconstruct_3D(rho_h,if_act,jf_act,kf_act,\n",
      "                                        NO2,PDMB,1,limiter_type)    \n",
      "    (vx_left, vx_right) = MHDpy.reconstruct_3D(vx_h,if_act,jf_act,kf_act,\n",
      "                                        NO2,PDMB,1,limiter_type)   \n",
      "    (vy_left, vy_right) = MHDpy.reconstruct_3D(vy_h,if_act,jf_act,kf_act,\n",
      "                                        NO2,PDMB,1,limiter_type)       \n",
      "    (vz_left, vz_right) = MHDpy.reconstruct_3D(vz_h,if_act,jf_act,kf_act,\n",
      "                                        NO2,PDMB,1,limiter_type)        \n",
      "    (p_left, p_right) = MHDpy.reconstruct_3D(p_h,if_act,jf_act,kf_act,\n",
      "                                        NO2,PDMB,1,limiter_type)   \n",
      "    # use Gas-hydro flux flunction to calculate the net flux at cell faces\n",
      "    # Here we use a Gaussian distribution, the temperature is fluid.\n",
      "    # Can use waterbag in Lyon et al., [2004]. Results are very similar.\n",
      "    (Frho_p,FrhoVx_p,FrhoVy_p,FrhoVz_p,Feng_p,_,_,_,_,_) = MHDpy.getHydroFlux(\n",
      "                            rho_left,vx_left,vy_left,vz_left,p_left,gamma,1)\n",
      "    (_,_,_,_,_,Frho_n,FrhoVx_n,FrhoVy_n,FrhoVz_n,Feng_n) = MHDpy.getHydroFlux(\n",
      "                            rho_right,vx_right,vy_right,vz_right,p_right,gamma,1) \n",
      "    \n",
      "    rho_flux_x = Frho_p + Frho_n\n",
      "    vx_flux_x = FrhoVx_p + FrhoVx_n\n",
      "    vy_flux_x = FrhoVy_p + FrhoVy_n\n",
      "    vz_flux_x = FrhoVz_p + FrhoVz_n\n",
      "    eng_flux_x = Feng_p + Feng_n\n",
      "    \n",
      "    # calculate magnetic stress in the x direction\n",
      "    # Reconstruct the cell centered magnetic fields to cell faces\n",
      "    (bx_left, bx_right) = MHDpy.reconstruct_3D(bx_h,if_act,jf_act,kf_act,\n",
      "                                        NO2,PDMB,1,limiter_type)   \n",
      "    (by_left, by_right) = MHDpy.reconstruct_3D(by_h,if_act,jf_act,kf_act,\n",
      "                                        NO2,PDMB,1,limiter_type)\n",
      "    (bz_left, bz_right) = MHDpy.reconstruct_3D(bz_h,if_act,jf_act,kf_act,\n",
      "                                        NO2,PDMB,1,limiter_type)\n",
      "    # Magnetic distribution function is also Gaussian, the \"temperature\" is\n",
      "    # fluid+magnetic\n",
      "    (Bstress_x_p, Bstress_y_p, Bstress_z_p,_, _,_) = MHDpy.getMagneticStress(\n",
      "        rho_left,vx_left,vy_left,vz_left,p_left,bx_left,by_left,bz_left,1)\n",
      "    (_,_,_,Bstress_x_n, Bstress_y_n, Bstress_z_n) = MHDpy.getMagneticStress(\n",
      "        rho_right,vx_right,vy_right,vz_right,p_right,bx_right,by_right,bz_right,1)\n",
      "    \n",
      "    BstressX_x = Bstress_x_p + Bstress_x_n\n",
      "    BstressY_x = Bstress_y_p + Bstress_y_n\n",
      "    BstressZ_x = Bstress_z_p + Bstress_z_n    \n",
      "        \n",
      "    #  b) Calculate Flux in the y direction    \n",
      "    (rho_left, rho_right) = MHDpy.reconstruct_3D(rho_h,if_act,jf_act,kf_act,\n",
      "                                            NO2,PDMB,2,limiter_type)    \n",
      "    (vx_left, vx_right) = MHDpy.reconstruct_3D(vx_h,if_act,jf_act,kf_act,\n",
      "                                            NO2,PDMB,2,limiter_type)   \n",
      "    (vy_left, vy_right) = MHDpy.reconstruct_3D(vy_h,if_act,jf_act,kf_act,\n",
      "                                            NO2,PDMB,2,limiter_type)       \n",
      "    (vz_left, vz_right) = MHDpy.reconstruct_3D(vz_h,if_act,jf_act,kf_act,\n",
      "                                            NO2,PDMB,2,limiter_type)        \n",
      "    (p_left, p_right) = MHDpy.reconstruct_3D(p_h,if_act,jf_act,kf_act,\n",
      "                                            NO2,PDMB,2,limiter_type)   \n",
      "    \n",
      "    (Frho_py,FrhoVx_py,FrhoVy_py,FrhoVz_py,Feng_py,_,_,_,_,_) = MHDpy.getHydroFlux(\n",
      "                        rho_left,vx_left,vy_left,vz_left,p_left,gamma,2)\n",
      "    (_,_,_,_,_,Frho_ny,FrhoVx_ny,FrhoVy_ny,FrhoVz_ny,Feng_ny) = MHDpy.getHydroFlux(\n",
      "                        rho_right,vx_right,vy_right,vz_right,p_right,gamma,2) \n",
      "    \n",
      "    rho_flux_y = Frho_py + Frho_ny\n",
      "    vx_flux_y = FrhoVx_py + FrhoVx_ny\n",
      "    vy_flux_y = FrhoVy_py + FrhoVy_ny\n",
      "    vz_flux_y = FrhoVz_py + FrhoVz_ny\n",
      "    eng_flux_y = Feng_py + Feng_ny    \n",
      "    \n",
      "    # calculate magnetic stress in the Y direction\n",
      "    (bx_left, bx_right) = MHDpy.reconstruct_3D(bx_h,if_act,jf_act,kf_act,\n",
      "                                            NO2,PDMB,2,limiter_type)   \n",
      "    (by_left, by_right) = MHDpy.reconstruct_3D(by_h,if_act,jf_act,kf_act,\n",
      "                                            NO2,PDMB,2,limiter_type)       \n",
      "    (bz_left, bz_right) = MHDpy.reconstruct_3D(bz_h,if_act,jf_act,kf_act,\n",
      "                                            NO2,PDMB,2,limiter_type)      \n",
      "    \n",
      "    (Bstress_x_p, Bstress_y_p, Bstress_z_p,_,_,_) = MHDpy.getMagneticStress(\n",
      "        rho_left,vx_left,vy_left,vz_left,p_left,bx_left,by_left,bz_left,2)\n",
      "    (_,_,_,Bstress_x_n, Bstress_y_n, Bstress_z_n) = MHDpy.getMagneticStress(\n",
      "        rho_right,vx_right,vy_right,vz_right,p_right,bx_right,by_right,bz_right,2)\n",
      "    \n",
      "    BstressX_y = Bstress_x_p + Bstress_x_n\n",
      "    BstressY_y = Bstress_y_p + Bstress_y_n\n",
      "    BstressZ_y = Bstress_z_p + Bstress_z_n    \n",
      "    \n",
      "    # c) Calculate Flux in the z direction\n",
      "    (rho_left, rho_right) = MHDpy.reconstruct_3D(rho_h,if_act,jf_act,kf_act,\n",
      "                                            NO2,PDMB,3,limiter_type)    \n",
      "    (vx_left, vx_right) = MHDpy.reconstruct_3D(vx_h,if_act,jf_act,kf_act,\n",
      "                                            NO2,PDMB,3,limiter_type)   \n",
      "    (vy_left, vy_right) = MHDpy.reconstruct_3D(vy_h,if_act,jf_act,kf_act,\n",
      "                                            NO2,PDMB,3,limiter_type)       \n",
      "    (vz_left, vz_right) = MHDpy.reconstruct_3D(vz_h,if_act,jf_act,kf_act,\n",
      "                                            NO2,PDMB,3,limiter_type)        \n",
      "    (p_left, p_right) = MHDpy.reconstruct_3D(p_h,if_act,jf_act,kf_act,\n",
      "                                            NO2,PDMB,3,limiter_type)   \n",
      "    \n",
      "    (Frho_px,FrhoVx_px,FrhoVy_px,FrhoVz_px,Feng_px,_,_,_,_,_) = MHDpy.getHydroFlux(\n",
      "                    rho_left,vx_left,vy_left,vz_left,p_left,gamma,3)\n",
      "    (_,_,_,_,_,Frho_nx,FrhoVx_nx,FrhoVy_nx,FrhoVz_nx,Feng_nx) = MHDpy.getHydroFlux(\n",
      "                    rho_right,vx_right,vy_right,vz_right,p_right,gamma,3) \n",
      "    \n",
      "    rho_flux_z = Frho_px + Frho_nx\n",
      "    vx_flux_z = FrhoVx_px + FrhoVx_nx\n",
      "    vy_flux_z = FrhoVy_px + FrhoVy_nx\n",
      "    vz_flux_z = FrhoVz_px + FrhoVz_nx\n",
      "    eng_flux_z = Feng_px + Feng_nx        \n",
      "    \n",
      "    # calculate magnetic stress in the Z direction\n",
      "    (bx_left, bx_right) = MHDpy.reconstruct_3D(bx_h,if_act,jf_act,kf_act,\n",
      "                                            NO2,PDMB,3,limiter_type)   \n",
      "    (by_left, by_right) = MHDpy.reconstruct_3D(by_h,if_act,jf_act,kf_act,\n",
      "                                            NO2,PDMB,3,limiter_type)       \n",
      "    (bz_left, bz_right) = MHDpy.reconstruct_3D(bz_h,if_act,jf_act,kf_act,\n",
      "                                            NO2,PDMB,3,limiter_type)      \n",
      "    \n",
      "    (Bstress_x_p, Bstress_y_p, Bstress_z_p,_,_,_) = MHDpy.getMagneticStress(\n",
      "        rho_left,vx_left,vy_left,vz_left,p_left,bx_left,by_left,bz_left,3)\n",
      "    (_,_,_,Bstress_x_n, Bstress_y_n, Bstress_z_n) = MHDpy.getMagneticStress(\n",
      "        rho_right,vx_right,vy_right,vz_right,p_right,bx_right,by_right,bz_right,3)\n",
      "    \n",
      "    BstressX_z = Bstress_x_p + Bstress_x_n\n",
      "    BstressY_z = Bstress_y_p + Bstress_y_n\n",
      "    BstressZ_z = Bstress_z_p + Bstress_z_n    "
     ],
     "language": "python",
     "metadata": {},
     "outputs": [],
     "prompt_number": 31
    },
    {
     "cell_type": "code",
     "collapsed": false,
     "input": [
      "    # Step 4 update Hydro variables without magnetic stress - operator\n",
      "    # splitting step withouth JxB force\n",
      "    rho[NO2:-NO2,NO2:-NO2,NO2:-NO2] = (rho0[NO2:-NO2,NO2:-NO2,NO2:-NO2] - \n",
      "        dt/dx[NO2:-NO2,NO2:-NO2,NO2:-NO2]*(rho_flux_x[1:,:-1,:-1]-\n",
      "        rho_flux_x[:-1,:-1,:-1])- \n",
      "        dt/dy[NO2:-NO2,NO2:-NO2,NO2:-NO2]*(rho_flux_y[:-1,1:,:-1]-\n",
      "        rho_flux_y[:-1,:-1,:-1]) -\n",
      "        dt/dz[NO2:-NO2,NO2:-NO2,NO2:-NO2]*(rho_flux_z[:-1,:-1,1:]-\n",
      "        rho_flux_z[:-1,:-1,:-1]) )\n",
      "    rhovx[NO2:-NO2,NO2:-NO2,NO2:-NO2] = (rhovx0[NO2:-NO2,NO2:-NO2,NO2:-NO2] - \n",
      "        dt/dx[NO2:-NO2,NO2:-NO2,NO2:-NO2]*(vx_flux_x[1:,:-1,:-1]-\n",
      "        vx_flux_x[:-1,:-1,:-1]) - \n",
      "        dt/dy[NO2:-NO2,NO2:-NO2,NO2:-NO2]*(vx_flux_y[:-1,1:,:-1]-\n",
      "        vx_flux_y[:-1,:-1,:-1]) - \n",
      "        dt/dz[NO2:-NO2,NO2:-NO2,NO2:-NO2]*(vx_flux_z[:-1,:-1,1:]-\n",
      "        vx_flux_z[:-1,:-1,:-1]) )\n",
      "    rhovy[NO2:-NO2,NO2:-NO2,NO2:-NO2] = (rhovy0[NO2:-NO2,NO2:-NO2,NO2:-NO2] - \n",
      "        dt/dx[NO2:-NO2,NO2:-NO2,NO2:-NO2]*(vy_flux_x[1:,:-1,:-1]-\n",
      "        vy_flux_x[:-1,:-1,:-1]) - \n",
      "        dt/dy[NO2:-NO2,NO2:-NO2,NO2:-NO2]*(vy_flux_y[:-1,1:,:-1]-\n",
      "        vy_flux_y[:-1,:-1,:-1]) - \n",
      "        dt/dz[NO2:-NO2,NO2:-NO2,NO2:-NO2]*(vy_flux_z[:-1,:-1,1:]-\n",
      "        vy_flux_z[:-1,:-1,:-1]) )\n",
      "    rhovz[NO2:-NO2,NO2:-NO2,NO2:-NO2] = (rhovz0[NO2:-NO2,NO2:-NO2,NO2:-NO2] - \n",
      "        dt/dx[NO2:-NO2,NO2:-NO2,NO2:-NO2]*(vz_flux_x[1:,:-1,:-1]-\n",
      "        vz_flux_x[:-1,:-1,:-1]) - \n",
      "        dt/dy[NO2:-NO2,NO2:-NO2,NO2:-NO2]*(vz_flux_y[:-1,1:,:-1]-\n",
      "        vz_flux_y[:-1,:-1,:-1]) - \n",
      "        dt/dz[NO2:-NO2,NO2:-NO2,NO2:-NO2]*(vz_flux_z[:-1,:-1,1:]-\n",
      "        vz_flux_z[:-1,:-1,:-1]) )\n",
      "    eng[NO2:-NO2,NO2:-NO2,NO2:-NO2] = (eng0[NO2:-NO2,NO2:-NO2,NO2:-NO2] - \n",
      "        dt/dx[NO2:-NO2,NO2:-NO2,NO2:-NO2]*(eng_flux_x[1:,:-1,:-1]-\n",
      "        eng_flux_x[:-1,:-1,:-1]) - \n",
      "        dt/dy[NO2:-NO2,NO2:-NO2,NO2:-NO2]*(eng_flux_y[:-1,1:,:-1]-\n",
      "        eng_flux_y[:-1,:-1,:-1]) - \n",
      "        dt/dz[NO2:-NO2,NO2:-NO2,NO2:-NO2]*(eng_flux_z[:-1,:-1,1:]-\n",
      "        eng_flux_z[:-1,:-1,:-1]) )\n",
      "    # get plasma pressure - now rho and p are solved (to O(dt)?)\n",
      "    vx = rhovx/rho\n",
      "    vy = rhovy/rho\n",
      "    vz = rhovz/rho\n",
      "    p = (eng - 0.5*rho*(vx**2+vy**2+vz**2))*(gamma-1)"
     ],
     "language": "python",
     "metadata": {},
     "outputs": [],
     "prompt_number": 36
    },
    {
     "cell_type": "code",
     "collapsed": false,
     "input": [
      "driver.writeObj([rho,rhovx,rhovx,rhovz,eng],\n",
      "                '/Users/wiltbemj/Downloads/hydro-pi.pkl')"
     ],
     "language": "python",
     "metadata": {},
     "outputs": [],
     "prompt_number": 37
    },
    {
     "cell_type": "code",
     "collapsed": false,
     "input": [
      "    # Step 5 apply the magnetic stress to the momentums - operator \n",
      "    # splitting step dealing with JxB force Since JxB doesn't heat the\n",
      "    # plasma, pressure is not changed between the Step 4 and 5\n",
      "    rhovx[NO2:-NO2,NO2:-NO2,NO2:-NO2] = (rhovx[NO2:-NO2,NO2:-NO2,NO2:-NO2] - \n",
      "        dt/dx[NO2:-NO2,NO2:-NO2,NO2:-NO2]*(BstressX_x[1:,:-1,:-1]-\n",
      "        BstressX_x[:-1,:-1,:-1]) - \n",
      "        dt/dy[NO2:-NO2,NO2:-NO2,NO2:-NO2]*(BstressX_y[:-1,1:,:-1]-\n",
      "        BstressX_y[:-1,:-1,:-1]) - \n",
      "        dt/dz[NO2:-NO2,NO2:-NO2,NO2:-NO2]*(BstressX_z[:-1,:-1,1:]-\n",
      "        BstressX_z[:-1,:-1,:-1]) )\n",
      "    rhovy[NO2:-NO2,NO2:-NO2,NO2:-NO2] = (rhovy[NO2:-NO2,NO2:-NO2,NO2:-NO2] - \n",
      "        dt/dx[NO2:-NO2,NO2:-NO2,NO2:-NO2]*(BstressY_x[1:,:-1,:-1]-\n",
      "        BstressY_x[:-1,:-1,:-1]) - \n",
      "        dt/dy[NO2:-NO2,NO2:-NO2,NO2:-NO2]*(BstressY_y[:-1,1:,:-1]-\n",
      "        BstressY_y[:-1,:-1,:-1]) - \n",
      "        dt/dz[NO2:-NO2,NO2:-NO2,NO2:-NO2]*(BstressY_z[:-1,:-1,1:]-\n",
      "        BstressY_z[:-1,:-1,:-1]) )\n",
      "    rhovz[NO2:-NO2,NO2:-NO2,NO2:-NO2] = (rhovz[NO2:-NO2,NO2:-NO2,NO2:-NO2] - \n",
      "        dt/dx[NO2:-NO2,NO2:-NO2,NO2:-NO2]*(BstressZ_x[1:,:-1,:-1]-\n",
      "        BstressZ_x[:-1,:-1,:-1]) - \n",
      "        dt/dy[NO2:-NO2,NO2:-NO2,NO2:-NO2]*(BstressZ_y[:-1,1:,:-1]-\n",
      "        BstressZ_y[:-1,:-1,:-1]) - \n",
      "        dt/dz[NO2:-NO2,NO2:-NO2,NO2:-NO2]*(BstressZ_z[:-1,:-1,1:]-\n",
      "        BstressZ_z[:-1,:-1,:-1]) )\n",
      "    \n",
      "    # get velocities with magnetic stress - now vx, vy, vz are solved\n",
      "    vx = rhovx/rho\n",
      "    vy = rhovy/rho\n",
      "    vz = rhovz/rho"
     ],
     "language": "python",
     "metadata": {},
     "outputs": [],
     "prompt_number": 38
    },
    {
     "cell_type": "code",
     "collapsed": false,
     "input": [
      "driver.writeObj([vx,vy,vz],\n",
      "                '/Users/wiltbemj/Downloads/v-pi.pkl')"
     ],
     "language": "python",
     "metadata": {},
     "outputs": [],
     "prompt_number": 39
    },
    {
     "cell_type": "code",
     "collapsed": false,
     "input": [
      "    # Step 6 update face-center magnetic fields (bi,bj,bk) through Faraday's law\n",
      "    bi[NO2:-NO2,NO2:-NO2,NO2:-NO2] = bi[NO2:-NO2,NO2:-NO2,NO2:-NO2] - dt*( \n",
      "        1/dy[NO2:-NO2+1,NO2:-NO2,NO2:-NO2]*(Ek[:,1:,:]-Ek[:,:-1,:]) -\n",
      "        1/dz[NO2:-NO2+1,NO2:-NO2,NO2:-NO2]*(Ej[:,:,1:]-Ej[:,:,:-1]) )\n",
      "    bj[NO2:-NO2,NO2:-NO2,NO2:-NO2] = bj[NO2:-NO2,NO2:-NO2,NO2:-NO2] - dt*( \n",
      "        1/dz[NO2:-NO2,NO2:-NO2+1,NO2:-NO2]*(Ei[:,:,1:]-Ei[:,:,:-1])-\n",
      "        1/dx[NO2:-NO2,NO2:-NO2+1,NO2:-NO2]*(Ek[1:,:,:]-Ek[:-1,:,:]) )\n",
      "    bk[NO2:-NO2,NO2:-NO2,NO2:-NO2] = bk[NO2:-NO2,NO2:-NO2,NO2:-NO2] - dt*( \n",
      "        1/dx[NO2:-NO2,NO2:-NO2,NO2:-NO2+1]*(Ej[1:,:,:]-Ej[:-1,:,:])-\n",
      "        1/dy[NO2:-NO2,NO2:-NO2,NO2:-NO2+1]*(Ei[:,1:,:]-Ei[:,:-1,:]) ) "
     ],
     "language": "python",
     "metadata": {},
     "outputs": [],
     "prompt_number": 49
    },
    {
     "cell_type": "code",
     "collapsed": false,
     "input": [
      "driver.writeObj([bi,bj,bk],\n",
      "                '/Users/wiltbemj/Downloads/b-pi.pkl')"
     ],
     "language": "python",
     "metadata": {},
     "outputs": [],
     "prompt_number": 50
    },
    {
     "cell_type": "code",
     "collapsed": false,
     "input": [],
     "language": "python",
     "metadata": {},
     "outputs": []
    }
   ],
   "metadata": {}
  }
 ]
}